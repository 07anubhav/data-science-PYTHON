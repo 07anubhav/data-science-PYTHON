{
 "cells": [
  {
   "cell_type": "markdown",
   "id": "b07f4e73",
   "metadata": {},
   "source": [
    "<b>Text Files</b>: Files containing info from the text data type only. Ex: json,csv,html\n",
    "\n",
    "<b>Text Data</b>: Information or data which represents text as opposed to numbers or booleans for instance. Ex: 'no feedback' (this is text data); 15,20,40 (numeric data); True,False (Boolean data)"
   ]
  },
  {
   "cell_type": "code",
   "execution_count": 1,
   "id": "eb570f88",
   "metadata": {},
   "outputs": [],
   "source": [
    "import pandas as pd\n",
    "import numpy as np"
   ]
  },
  {
   "cell_type": "markdown",
   "id": "1442b007",
   "metadata": {},
   "source": [
    "* The **modulus operator (%)** allows us to point to the variable from which we'd like to obtain info and insert it into the original string.\n",
    "* **%s**: it indicates string value\n",
    "* **%d**: ir indicates digit/integer value"
   ]
  },
  {
   "cell_type": "code",
   "execution_count": 6,
   "id": "60127eba",
   "metadata": {},
   "outputs": [
    {
     "name": "stdout",
     "output_type": "stream",
     "text": [
      "This is from product_category \"A\".\n",
      "This is from product_category \"A\".\n"
     ]
    }
   ],
   "source": [
    "product_category = 'A'\n",
    "\n",
    "print('This is from product_category \"%s\".' %product_category)\n",
    "print(f'This is from product_category \"{product_category}\".')"
   ]
  },
  {
   "cell_type": "code",
   "execution_count": 20,
   "id": "37e603c9",
   "metadata": {},
   "outputs": [
    {
     "name": "stdout",
     "output_type": "stream",
     "text": [
      "This is from product_category \"600\".\n",
      "We currently have 500 available units of this item.\n"
     ]
    }
   ],
   "source": [
    "quantities = [500,600]\n",
    "\n",
    "print('This is from product_category \"%s\".' %quantities[1])\n",
    "print(\"We currently have %d available units of this item.\" %quantities[0])"
   ]
  },
  {
   "cell_type": "code",
   "execution_count": 18,
   "id": "6639e7d7",
   "metadata": {},
   "outputs": [
    {
     "name": "stdout",
     "output_type": "stream",
     "text": [
      "This stock costs $40.500000 per share.\n",
      "This stock costs $60.4 per share.\n",
      "This stock costs $60.35 per share.\n"
     ]
    }
   ],
   "source": [
    "stock_share_price_list = [40.50,60.35]\n",
    "\n",
    "print(\"This stock costs $%f per share.\" %stock_share_price_list[0])\n",
    "print(\"This stock costs $%.1f per share.\" %stock_share_price_list[1])\n",
    "print(\"This stock costs $%.2f per share.\" %stock_share_price_list[1])"
   ]
  },
  {
   "cell_type": "code",
   "execution_count": 24,
   "id": "2057cbbc",
   "metadata": {},
   "outputs": [
    {
     "name": "stdout",
     "output_type": "stream",
     "text": [
      "Currently, we have 500 units of category \"A\" products in store.\n",
      "Currently, we have 600 units of category \"B\" products in store.\n"
     ]
    }
   ],
   "source": [
    "product_category = 'A','B'\n",
    "i=0\n",
    "print(\"Currently, we have %d units of category \\\"%s\\\" products in store.\" %(quantities[i],product_category[i]))\n",
    "i=1\n",
    "print(\"Currently, we have %d units of category \\\"%s\\\" products in store.\" %(quantities[i],product_category[i]))"
   ]
  }
 ],
 "metadata": {
  "kernelspec": {
   "display_name": "Python 3 (ipykernel)",
   "language": "python",
   "name": "python3"
  },
  "language_info": {
   "codemirror_mode": {
    "name": "ipython",
    "version": 3
   },
   "file_extension": ".py",
   "mimetype": "text/x-python",
   "name": "python",
   "nbconvert_exporter": "python",
   "pygments_lexer": "ipython3",
   "version": "3.9.12"
  }
 },
 "nbformat": 4,
 "nbformat_minor": 5
}
