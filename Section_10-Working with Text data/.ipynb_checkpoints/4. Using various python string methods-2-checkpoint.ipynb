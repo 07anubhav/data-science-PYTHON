{
 "cells": [
  {
   "cell_type": "code",
   "execution_count": 6,
   "id": "73c71e8d",
   "metadata": {},
   "outputs": [],
   "source": [
    "s3 = 'mrs. amy Moore'"
   ]
  },
  {
   "cell_type": "code",
   "execution_count": 7,
   "id": "14fe5e4f",
   "metadata": {},
   "outputs": [
    {
     "data": {
      "text/plain": [
       "'MRS. AMY MOORE'"
      ]
     },
     "execution_count": 7,
     "metadata": {},
     "output_type": "execute_result"
    }
   ],
   "source": [
    "s3.upper()"
   ]
  },
  {
   "cell_type": "code",
   "execution_count": 8,
   "id": "f0e2fc05",
   "metadata": {},
   "outputs": [
    {
     "data": {
      "text/plain": [
       "'mrs. amy moore'"
      ]
     },
     "execution_count": 8,
     "metadata": {},
     "output_type": "execute_result"
    }
   ],
   "source": [
    "s3.lower()"
   ]
  },
  {
   "cell_type": "code",
   "execution_count": 9,
   "id": "1dd19c0b",
   "metadata": {},
   "outputs": [
    {
     "data": {
      "text/plain": [
       "'Mrs. amy moore'"
      ]
     },
     "execution_count": 9,
     "metadata": {},
     "output_type": "execute_result"
    }
   ],
   "source": [
    "s3.capitalize()"
   ]
  },
  {
   "cell_type": "code",
   "execution_count": 10,
   "id": "1ed93b98",
   "metadata": {},
   "outputs": [
    {
     "data": {
      "text/plain": [
       "'Mrs. Amy Moore'"
      ]
     },
     "execution_count": 10,
     "metadata": {},
     "output_type": "execute_result"
    }
   ],
   "source": [
    "s3.title()"
   ]
  },
  {
   "cell_type": "code",
   "execution_count": 11,
   "id": "24123628",
   "metadata": {},
   "outputs": [
    {
     "data": {
      "text/plain": [
       "'Cost Per Unit'"
      ]
     },
     "execution_count": 11,
     "metadata": {},
     "output_type": "execute_result"
    }
   ],
   "source": [
    "'Cost per unit'.title()"
   ]
  },
  {
   "cell_type": "code",
   "execution_count": 12,
   "id": "cb8b071b",
   "metadata": {},
   "outputs": [],
   "source": [
    "s4 = ' quaterly earnings report '"
   ]
  },
  {
   "cell_type": "markdown",
   "id": "9c88b338",
   "metadata": {},
   "source": [
    "* **strip:**\n",
    "    * It will remove all white space from the begining and the end of the string\n",
    "    * It looks for any of the characters specified between the quotes in both the ends of the given string and removes these characters until it encounters different character"
   ]
  },
  {
   "cell_type": "code",
   "execution_count": 13,
   "id": "9e4eb0fb",
   "metadata": {},
   "outputs": [
    {
     "data": {
      "text/plain": [
       "'quaterly earnings report'"
      ]
     },
     "execution_count": 13,
     "metadata": {},
     "output_type": "execute_result"
    }
   ],
   "source": [
    "s4.strip()"
   ]
  },
  {
   "cell_type": "code",
   "execution_count": 14,
   "id": "ffcda943",
   "metadata": {},
   "outputs": [
    {
     "data": {
      "text/plain": [
       "'quaterly earnings report'"
      ]
     },
     "execution_count": 14,
     "metadata": {},
     "output_type": "execute_result"
    }
   ],
   "source": [
    "s4.strip(' ')"
   ]
  },
  {
   "cell_type": "code",
   "execution_count": 17,
   "id": "20d9fd6a",
   "metadata": {},
   "outputs": [
    {
     "data": {
      "text/plain": [
       "'quaterly earnings report'"
      ]
     },
     "execution_count": 17,
     "metadata": {},
     "output_type": "execute_result"
    }
   ],
   "source": [
    "s4.strip(' r')"
   ]
  },
  {
   "cell_type": "code",
   "execution_count": 19,
   "id": "1f82d44b",
   "metadata": {},
   "outputs": [
    {
     "data": {
      "text/plain": [
       "'uaterly earnings repor'"
      ]
     },
     "execution_count": 19,
     "metadata": {},
     "output_type": "execute_result"
    }
   ],
   "source": [
    "s4.strip(' qt')"
   ]
  },
  {
   "cell_type": "code",
   "execution_count": 20,
   "id": "0c435d53",
   "metadata": {},
   "outputs": [
    {
     "data": {
      "text/plain": [
       "' quaterly earnings report '"
      ]
     },
     "execution_count": 20,
     "metadata": {},
     "output_type": "execute_result"
    }
   ],
   "source": [
    "s4.strip('qt')"
   ]
  },
  {
   "cell_type": "code",
   "execution_count": 21,
   "id": "6bb09b67",
   "metadata": {},
   "outputs": [
    {
     "data": {
      "text/plain": [
       "'quaterly earnings report '"
      ]
     },
     "execution_count": 21,
     "metadata": {},
     "output_type": "execute_result"
    }
   ],
   "source": [
    "s4.lstrip()"
   ]
  },
  {
   "cell_type": "code",
   "execution_count": 22,
   "id": "f87ae042",
   "metadata": {},
   "outputs": [
    {
     "data": {
      "text/plain": [
       "' quaterly earnings report'"
      ]
     },
     "execution_count": 22,
     "metadata": {},
     "output_type": "execute_result"
    }
   ],
   "source": [
    "s4.rstrip()"
   ]
  },
  {
   "cell_type": "code",
   "execution_count": 23,
   "id": "3c9b300b",
   "metadata": {},
   "outputs": [
    {
     "data": {
      "text/plain": [
       "'nings report '"
      ]
     },
     "execution_count": 23,
     "metadata": {},
     "output_type": "execute_result"
    }
   ],
   "source": [
    "s4.lstrip(' quaterly')"
   ]
  },
  {
   "cell_type": "code",
   "execution_count": 24,
   "id": "9b344589",
   "metadata": {},
   "outputs": [
    {
     "data": {
      "text/plain": [
       "'nings repo'"
      ]
     },
     "execution_count": 24,
     "metadata": {},
     "output_type": "execute_result"
    }
   ],
   "source": [
    "s4.strip(' quaterly')"
   ]
  },
  {
   "cell_type": "code",
   "execution_count": 25,
   "id": "7327c483",
   "metadata": {},
   "outputs": [
    {
     "data": {
      "text/plain": [
       "'quaterly earnings report'"
      ]
     },
     "execution_count": 25,
     "metadata": {},
     "output_type": "execute_result"
    }
   ],
   "source": [
    "s5 = s4.strip()\n",
    "s5"
   ]
  },
  {
   "cell_type": "code",
   "execution_count": 26,
   "id": "69c31cc3",
   "metadata": {},
   "outputs": [
    {
     "data": {
      "text/plain": [
       "' earnings report'"
      ]
     },
     "execution_count": 26,
     "metadata": {},
     "output_type": "execute_result"
    }
   ],
   "source": [
    "s5.lstrip('quaterly')"
   ]
  },
  {
   "cell_type": "code",
   "execution_count": 27,
   "id": "358eeb2c",
   "metadata": {},
   "outputs": [
    {
     "data": {
      "text/plain": [
       "'quaterly earnings '"
      ]
     },
     "execution_count": 27,
     "metadata": {},
     "output_type": "execute_result"
    }
   ],
   "source": [
    "s5.rstrip('report')"
   ]
  },
  {
   "cell_type": "code",
   "execution_count": 28,
   "id": "31afca72",
   "metadata": {},
   "outputs": [],
   "source": [
    "s6 = ' &%!quaterly earnings report *'"
   ]
  },
  {
   "cell_type": "code",
   "execution_count": 30,
   "id": "1b60e574",
   "metadata": {},
   "outputs": [
    {
     "data": {
      "text/plain": [
       "'quaterly earnings report'"
      ]
     },
     "execution_count": 30,
     "metadata": {},
     "output_type": "execute_result"
    }
   ],
   "source": [
    "s6.strip(' !@#$%^&*()')"
   ]
  }
 ],
 "metadata": {
  "kernelspec": {
   "display_name": "Python 3 (ipykernel)",
   "language": "python",
   "name": "python3"
  },
  "language_info": {
   "codemirror_mode": {
    "name": "ipython",
    "version": 3
   },
   "file_extension": ".py",
   "mimetype": "text/x-python",
   "name": "python",
   "nbconvert_exporter": "python",
   "pygments_lexer": "ipython3",
   "version": "3.9.12"
  }
 },
 "nbformat": 4,
 "nbformat_minor": 5
}
