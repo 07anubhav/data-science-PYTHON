{
 "cells": [
  {
   "cell_type": "code",
   "execution_count": 4,
   "id": "6269c286",
   "metadata": {},
   "outputs": [
    {
     "name": "stdout",
     "output_type": "stream",
     "text": [
      "This product is from Category \"A\".\n",
      "This product is from \n",
      "Category \"A\".\n",
      "This product is from \n",
      "\n",
      "Category \"A\".\n"
     ]
    }
   ],
   "source": [
    "print('This product is from Category \"A\".')\n",
    "print('This product is from \\nCategory \"A\".')\n",
    "print('This product is from \\n\\nCategory \"A\".')"
   ]
  },
  {
   "cell_type": "code",
   "execution_count": 6,
   "id": "dfe78fdb",
   "metadata": {},
   "outputs": [
    {
     "name": "stdout",
     "output_type": "stream",
     "text": [
      "This product is from Category \"A\".This product is from Category \"B\".\n",
      "This product is from Category \"A\".\tThis product is from Category \"B\".\n",
      "This product is from Category \"A\".\t\tThis product is from Category \"B\".\n"
     ]
    }
   ],
   "source": [
    "print('This product is from Category \"A\".' + 'This product is from Category \"B\".')\n",
    "print('This product is from Category \"A\".\\t' + 'This product is from Category \"B\".')\n",
    "print('This product is from Category \"A\".\\t\\t' + 'This product is from Category \"B\".')"
   ]
  },
  {
   "cell_type": "markdown",
   "id": "6fd522ef",
   "metadata": {},
   "source": [
    "* **carriage return \\r**: It shifts or carriers, all subsequent characters to the begining of the string."
   ]
  },
  {
   "cell_type": "code",
   "execution_count": 8,
   "id": "d45192fb",
   "metadata": {},
   "outputs": [
    {
     "name": "stdout",
     "output_type": "stream",
     "text": [
      "This product is from Category \"A\". \r",
      "Product 01\n",
      "This product is from Category \"A\". \r",
      "Product 0001\n"
     ]
    }
   ],
   "source": [
    "print('This product is from Category \"A\". \\rProduct 01')\n",
    "print('This product is from Category \"A\". \\rProduct 0001')"
   ]
  }
 ],
 "metadata": {
  "kernelspec": {
   "display_name": "Python 3 (ipykernel)",
   "language": "python",
   "name": "python3"
  },
  "language_info": {
   "codemirror_mode": {
    "name": "ipython",
    "version": 3
   },
   "file_extension": ".py",
   "mimetype": "text/x-python",
   "name": "python",
   "nbconvert_exporter": "python",
   "pygments_lexer": "ipython3",
   "version": "3.9.12"
  }
 },
 "nbformat": 4,
 "nbformat_minor": 5
}
