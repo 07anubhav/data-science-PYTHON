{
 "cells": [
  {
   "cell_type": "code",
   "execution_count": 1,
   "id": "70d55f83",
   "metadata": {},
   "outputs": [
    {
     "data": {
      "text/plain": [
       "'Price Per Unit'"
      ]
     },
     "execution_count": 1,
     "metadata": {},
     "output_type": "execute_result"
    }
   ],
   "source": [
    "s = 'Price Per Unit'\n",
    "s"
   ]
  },
  {
   "cell_type": "code",
   "execution_count": 2,
   "id": "60e9f74b",
   "metadata": {},
   "outputs": [
    {
     "data": {
      "text/plain": [
       "'Cost Per Unit'"
      ]
     },
     "execution_count": 2,
     "metadata": {},
     "output_type": "execute_result"
    }
   ],
   "source": [
    "s1 =s.replace('Price','Cost')\n",
    "s1"
   ]
  },
  {
   "cell_type": "code",
   "execution_count": 3,
   "id": "6f14094e",
   "metadata": {},
   "outputs": [
    {
     "data": {
      "text/plain": [
       "True"
      ]
     },
     "execution_count": 3,
     "metadata": {},
     "output_type": "execute_result"
    }
   ],
   "source": [
    "s1.startswith('Cost')"
   ]
  },
  {
   "cell_type": "code",
   "execution_count": 4,
   "id": "3da3ca5a",
   "metadata": {},
   "outputs": [
    {
     "data": {
      "text/plain": [
       "False"
      ]
     },
     "execution_count": 4,
     "metadata": {},
     "output_type": "execute_result"
    }
   ],
   "source": [
    "s1.startswith('cost')"
   ]
  },
  {
   "cell_type": "code",
   "execution_count": 5,
   "id": "4ab55000",
   "metadata": {},
   "outputs": [
    {
     "data": {
      "text/plain": [
       "False"
      ]
     },
     "execution_count": 5,
     "metadata": {},
     "output_type": "execute_result"
    }
   ],
   "source": [
    "s1.startswith('Price')"
   ]
  },
  {
   "cell_type": "code",
   "execution_count": 6,
   "id": "96417ce1",
   "metadata": {},
   "outputs": [
    {
     "data": {
      "text/plain": [
       "True"
      ]
     },
     "execution_count": 6,
     "metadata": {},
     "output_type": "execute_result"
    }
   ],
   "source": [
    "s1.endswith('nit')"
   ]
  },
  {
   "cell_type": "code",
   "execution_count": 7,
   "id": "65bac9f8",
   "metadata": {},
   "outputs": [
    {
     "data": {
      "text/plain": [
       "False"
      ]
     },
     "execution_count": 7,
     "metadata": {},
     "output_type": "execute_result"
    }
   ],
   "source": [
    "s1.endswith('nits')"
   ]
  },
  {
   "cell_type": "code",
   "execution_count": 8,
   "id": "daa03a41",
   "metadata": {},
   "outputs": [
    {
     "data": {
      "text/plain": [
       "'Cost Per Unit'"
      ]
     },
     "execution_count": 8,
     "metadata": {},
     "output_type": "execute_result"
    }
   ],
   "source": [
    "s1"
   ]
  },
  {
   "cell_type": "code",
   "execution_count": 9,
   "id": "3d58b471",
   "metadata": {},
   "outputs": [
    {
     "data": {
      "text/plain": [
       "['Cost', 'Per', 'Unit']"
      ]
     },
     "execution_count": 9,
     "metadata": {},
     "output_type": "execute_result"
    }
   ],
   "source": [
    "s1.split()"
   ]
  },
  {
   "cell_type": "code",
   "execution_count": 10,
   "id": "de635890",
   "metadata": {},
   "outputs": [
    {
     "data": {
      "text/plain": [
       "3"
      ]
     },
     "execution_count": 10,
     "metadata": {},
     "output_type": "execute_result"
    }
   ],
   "source": [
    "len(s1.split())"
   ]
  },
  {
   "cell_type": "code",
   "execution_count": 11,
   "id": "c995addf",
   "metadata": {},
   "outputs": [
    {
     "data": {
      "text/plain": [
       "['Cost', 'Per', 'Unit']"
      ]
     },
     "execution_count": 11,
     "metadata": {},
     "output_type": "execute_result"
    }
   ],
   "source": [
    "s1.split(\" \")"
   ]
  },
  {
   "cell_type": "code",
   "execution_count": 12,
   "id": "cc29d0b1",
   "metadata": {},
   "outputs": [
    {
     "ename": "ValueError",
     "evalue": "empty separator",
     "output_type": "error",
     "traceback": [
      "\u001b[1;31m---------------------------------------------------------------------------\u001b[0m",
      "\u001b[1;31mValueError\u001b[0m                                Traceback (most recent call last)",
      "Input \u001b[1;32mIn [12]\u001b[0m, in \u001b[0;36m<cell line: 1>\u001b[1;34m()\u001b[0m\n\u001b[1;32m----> 1\u001b[0m \u001b[43ms1\u001b[49m\u001b[38;5;241;43m.\u001b[39;49m\u001b[43msplit\u001b[49m\u001b[43m(\u001b[49m\u001b[38;5;124;43m'\u001b[39;49m\u001b[38;5;124;43m'\u001b[39;49m\u001b[43m)\u001b[49m\n",
      "\u001b[1;31mValueError\u001b[0m: empty separator"
     ]
    }
   ],
   "source": [
    "s1.split('')"
   ]
  },
  {
   "cell_type": "code",
   "execution_count": 15,
   "id": "ce6618de",
   "metadata": {},
   "outputs": [
    {
     "name": "stdout",
     "output_type": "stream",
     "text": [
      "Cost Per Unit\n"
     ]
    },
    {
     "data": {
      "text/plain": [
       "['Cost ', ' Unit']"
      ]
     },
     "execution_count": 15,
     "metadata": {},
     "output_type": "execute_result"
    }
   ],
   "source": [
    "print(s1)\n",
    "s1.split('Per')"
   ]
  },
  {
   "cell_type": "markdown",
   "id": "b569062f",
   "metadata": {},
   "source": [
    "* **maxsplit**: it indicates the maximum number of splits you can obtain with this execution"
   ]
  },
  {
   "cell_type": "code",
   "execution_count": 16,
   "id": "5c1b850c",
   "metadata": {},
   "outputs": [
    {
     "data": {
      "text/plain": [
       "['Cost Per Unit']"
      ]
     },
     "execution_count": 16,
     "metadata": {},
     "output_type": "execute_result"
    }
   ],
   "source": [
    "# this indicates no splits will take place, hence it returns a single string in list\n"
   ]
  },
  {
   "cell_type": "code",
   "execution_count": 17,
   "id": "e724220e",
   "metadata": {},
   "outputs": [
    {
     "data": {
      "text/plain": [
       "['Cost Per Unit']"
      ]
     },
     "execution_count": 17,
     "metadata": {},
     "output_type": "execute_result"
    }
   ],
   "source": [
    "s1.split(' ',0)"
   ]
  },
  {
   "cell_type": "code",
   "execution_count": 19,
   "id": "77c683b0",
   "metadata": {},
   "outputs": [
    {
     "data": {
      "text/plain": [
       "['Cost', 'Per Unit']"
      ]
     },
     "execution_count": 19,
     "metadata": {},
     "output_type": "execute_result"
    }
   ],
   "source": [
    "s1.split(' ',1)"
   ]
  },
  {
   "cell_type": "code",
   "execution_count": 22,
   "id": "1a7d93f5",
   "metadata": {},
   "outputs": [
    {
     "data": {
      "text/plain": [
       "['Cost', 'Per', 'Unit']"
      ]
     },
     "execution_count": 22,
     "metadata": {},
     "output_type": "execute_result"
    }
   ],
   "source": [
    "s1.split(' ',2)"
   ]
  },
  {
   "cell_type": "code",
   "execution_count": 23,
   "id": "66600003",
   "metadata": {},
   "outputs": [
    {
     "data": {
      "text/plain": [
       "['Cost', 'Per', 'Unit']"
      ]
     },
     "execution_count": 23,
     "metadata": {},
     "output_type": "execute_result"
    }
   ],
   "source": [
    "# as there are only 4 words in the string\n",
    "s1.split(' ',4)"
   ]
  },
  {
   "cell_type": "code",
   "execution_count": 24,
   "id": "4670510d",
   "metadata": {},
   "outputs": [],
   "source": [
    "s2 = 'Mr., John, Wilson'"
   ]
  },
  {
   "cell_type": "code",
   "execution_count": 25,
   "id": "8aa22c9c",
   "metadata": {},
   "outputs": [
    {
     "data": {
      "text/plain": [
       "['Mr.', ' John', ' Wilson']"
      ]
     },
     "execution_count": 25,
     "metadata": {},
     "output_type": "execute_result"
    }
   ],
   "source": [
    "s2.split(',')"
   ]
  },
  {
   "cell_type": "code",
   "execution_count": 26,
   "id": "4aa57272",
   "metadata": {},
   "outputs": [
    {
     "data": {
      "text/plain": [
       "' John'"
      ]
     },
     "execution_count": 26,
     "metadata": {},
     "output_type": "execute_result"
    }
   ],
   "source": [
    "s2.split(',')[1]"
   ]
  },
  {
   "cell_type": "code",
   "execution_count": 27,
   "id": "c2a99a65",
   "metadata": {},
   "outputs": [
    {
     "data": {
      "text/plain": [
       "'Mr.'"
      ]
     },
     "execution_count": 27,
     "metadata": {},
     "output_type": "execute_result"
    }
   ],
   "source": [
    "s2.split(',')[0]"
   ]
  }
 ],
 "metadata": {
  "kernelspec": {
   "display_name": "Python 3 (ipykernel)",
   "language": "python",
   "name": "python3"
  },
  "language_info": {
   "codemirror_mode": {
    "name": "ipython",
    "version": 3
   },
   "file_extension": ".py",
   "mimetype": "text/x-python",
   "name": "python",
   "nbconvert_exporter": "python",
   "pygments_lexer": "ipython3",
   "version": "3.9.12"
  }
 },
 "nbformat": 4,
 "nbformat_minor": 5
}
