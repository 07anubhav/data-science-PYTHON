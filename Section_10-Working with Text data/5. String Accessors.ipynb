{
 "cells": [
  {
   "cell_type": "code",
   "execution_count": 1,
   "id": "49232fea",
   "metadata": {},
   "outputs": [],
   "source": [
    "import pandas as pd"
   ]
  },
  {
   "cell_type": "markdown",
   "id": "b00beab0",
   "metadata": {},
   "source": [
    "### Example-1"
   ]
  },
  {
   "cell_type": "code",
   "execution_count": 2,
   "id": "80ecadf7",
   "metadata": {},
   "outputs": [
    {
     "data": {
      "text/plain": [
       "0    employee satisfaction rating\n",
       "1             employee churn rate\n",
       "dtype: object"
      ]
     },
     "execution_count": 2,
     "metadata": {},
     "output_type": "execute_result"
    }
   ],
   "source": [
    "operational_kpis = pd.Series([\"employee satisfaction rating\",\"employee churn rate\"])\n",
    "operational_kpis"
   ]
  },
  {
   "cell_type": "code",
   "execution_count": 3,
   "id": "d2cc0bb6",
   "metadata": {},
   "outputs": [
    {
     "ename": "AttributeError",
     "evalue": "'Series' object has no attribute 'lstrip'",
     "output_type": "error",
     "traceback": [
      "\u001b[1;31m---------------------------------------------------------------------------\u001b[0m",
      "\u001b[1;31mAttributeError\u001b[0m                            Traceback (most recent call last)",
      "Input \u001b[1;32mIn [3]\u001b[0m, in \u001b[0;36m<cell line: 1>\u001b[1;34m()\u001b[0m\n\u001b[1;32m----> 1\u001b[0m \u001b[43moperational_kpis\u001b[49m\u001b[38;5;241;43m.\u001b[39;49m\u001b[43mlstrip\u001b[49m(\u001b[38;5;124m'\u001b[39m\u001b[38;5;124memployee\u001b[39m\u001b[38;5;124m'\u001b[39m)\n",
      "File \u001b[1;32mD:\\Anaconda\\lib\\site-packages\\pandas\\core\\generic.py:5575\u001b[0m, in \u001b[0;36mNDFrame.__getattr__\u001b[1;34m(self, name)\u001b[0m\n\u001b[0;32m   5568\u001b[0m \u001b[38;5;28;01mif\u001b[39;00m (\n\u001b[0;32m   5569\u001b[0m     name \u001b[38;5;129;01mnot\u001b[39;00m \u001b[38;5;129;01min\u001b[39;00m \u001b[38;5;28mself\u001b[39m\u001b[38;5;241m.\u001b[39m_internal_names_set\n\u001b[0;32m   5570\u001b[0m     \u001b[38;5;129;01mand\u001b[39;00m name \u001b[38;5;129;01mnot\u001b[39;00m \u001b[38;5;129;01min\u001b[39;00m \u001b[38;5;28mself\u001b[39m\u001b[38;5;241m.\u001b[39m_metadata\n\u001b[0;32m   5571\u001b[0m     \u001b[38;5;129;01mand\u001b[39;00m name \u001b[38;5;129;01mnot\u001b[39;00m \u001b[38;5;129;01min\u001b[39;00m \u001b[38;5;28mself\u001b[39m\u001b[38;5;241m.\u001b[39m_accessors\n\u001b[0;32m   5572\u001b[0m     \u001b[38;5;129;01mand\u001b[39;00m \u001b[38;5;28mself\u001b[39m\u001b[38;5;241m.\u001b[39m_info_axis\u001b[38;5;241m.\u001b[39m_can_hold_identifiers_and_holds_name(name)\n\u001b[0;32m   5573\u001b[0m ):\n\u001b[0;32m   5574\u001b[0m     \u001b[38;5;28;01mreturn\u001b[39;00m \u001b[38;5;28mself\u001b[39m[name]\n\u001b[1;32m-> 5575\u001b[0m \u001b[38;5;28;01mreturn\u001b[39;00m \u001b[38;5;28;43mobject\u001b[39;49m\u001b[38;5;241;43m.\u001b[39;49m\u001b[38;5;21;43m__getattribute__\u001b[39;49m\u001b[43m(\u001b[49m\u001b[38;5;28;43mself\u001b[39;49m\u001b[43m,\u001b[49m\u001b[43m \u001b[49m\u001b[43mname\u001b[49m\u001b[43m)\u001b[49m\n",
      "\u001b[1;31mAttributeError\u001b[0m: 'Series' object has no attribute 'lstrip'"
     ]
    }
   ],
   "source": [
    "operational_kpis.lstrip('employee')"
   ]
  },
  {
   "cell_type": "code",
   "execution_count": 20,
   "id": "4665fad4",
   "metadata": {},
   "outputs": [
    {
     "data": {
      "text/plain": [
       "'employee satisfaction rating'"
      ]
     },
     "execution_count": 20,
     "metadata": {},
     "output_type": "execute_result"
    }
   ],
   "source": [
    "operational_kpis[0]"
   ]
  },
  {
   "cell_type": "code",
   "execution_count": 4,
   "id": "aea686bb",
   "metadata": {},
   "outputs": [
    {
     "data": {
      "text/plain": [
       "' satisfaction rating'"
      ]
     },
     "execution_count": 4,
     "metadata": {},
     "output_type": "execute_result"
    }
   ],
   "source": [
    "operational_kpis[0].lstrip('employee')"
   ]
  },
  {
   "cell_type": "code",
   "execution_count": 5,
   "id": "55d6f25f",
   "metadata": {},
   "outputs": [
    {
     "data": {
      "text/plain": [
       "' churn rate'"
      ]
     },
     "execution_count": 5,
     "metadata": {},
     "output_type": "execute_result"
    }
   ],
   "source": [
    "operational_kpis[1].lstrip('employee')"
   ]
  },
  {
   "cell_type": "code",
   "execution_count": 7,
   "id": "e7d536a4",
   "metadata": {},
   "outputs": [
    {
     "data": {
      "text/plain": [
       "0     satisfaction rating\n",
       "1              churn rate\n",
       "dtype: object"
      ]
     },
     "execution_count": 7,
     "metadata": {},
     "output_type": "execute_result"
    }
   ],
   "source": [
    "pd.Series([operational_kpis[0].lstrip('employee'),operational_kpis[1].lstrip('employee')])"
   ]
  },
  {
   "cell_type": "code",
   "execution_count": 12,
   "id": "a239575a",
   "metadata": {},
   "outputs": [
    {
     "name": "stdout",
     "output_type": "stream",
     "text": [
      "<pandas.core.strings.accessor.StringMethods object at 0x0000015F7F77D130>\n"
     ]
    }
   ],
   "source": [
    "print(operational_kpis.str)"
   ]
  },
  {
   "cell_type": "code",
   "execution_count": 10,
   "id": "e499440f",
   "metadata": {},
   "outputs": [
    {
     "data": {
      "text/plain": [
       "0    e\n",
       "1    e\n",
       "dtype: object"
      ]
     },
     "execution_count": 10,
     "metadata": {},
     "output_type": "execute_result"
    }
   ],
   "source": [
    "operational_kpis.str[0]"
   ]
  },
  {
   "cell_type": "code",
   "execution_count": 11,
   "id": "4a4f1a96",
   "metadata": {},
   "outputs": [
    {
     "data": {
      "text/plain": [
       "0    m\n",
       "1    m\n",
       "dtype: object"
      ]
     },
     "execution_count": 11,
     "metadata": {},
     "output_type": "execute_result"
    }
   ],
   "source": [
    "operational_kpis.str[1]"
   ]
  },
  {
   "cell_type": "code",
   "execution_count": 13,
   "id": "210a337e",
   "metadata": {},
   "outputs": [
    {
     "data": {
      "text/plain": [
       "0     satisfaction rating\n",
       "1              churn rate\n",
       "dtype: object"
      ]
     },
     "execution_count": 13,
     "metadata": {},
     "output_type": "execute_result"
    }
   ],
   "source": [
    "operational_kpis.str.lstrip('employee')"
   ]
  },
  {
   "cell_type": "markdown",
   "id": "aec82ae9",
   "metadata": {},
   "source": [
    "### Example-2"
   ]
  },
  {
   "cell_type": "code",
   "execution_count": 14,
   "id": "a837fa88",
   "metadata": {},
   "outputs": [
    {
     "data": {
      "text/plain": [
       "0    Text_data\n",
       "1           34\n",
       "dtype: object"
      ]
     },
     "execution_count": 14,
     "metadata": {},
     "output_type": "execute_result"
    }
   ],
   "source": [
    "text_series = pd.Series(['Text_data',34])\n",
    "text_series"
   ]
  },
  {
   "cell_type": "code",
   "execution_count": 15,
   "id": "595f2e5f",
   "metadata": {},
   "outputs": [
    {
     "data": {
      "text/plain": [
       "0    data\n",
       "1     NaN\n",
       "dtype: object"
      ]
     },
     "execution_count": 15,
     "metadata": {},
     "output_type": "execute_result"
    }
   ],
   "source": [
    "text_series.str.lstrip('Text_')"
   ]
  },
  {
   "cell_type": "code",
   "execution_count": 17,
   "id": "2770321c",
   "metadata": {},
   "outputs": [
    {
     "data": {
      "text/plain": [
       "0    data\n",
       "1      34\n",
       "dtype: object"
      ]
     },
     "execution_count": 17,
     "metadata": {},
     "output_type": "execute_result"
    }
   ],
   "source": [
    "text_series = pd.Series(['Text_data','34'])\n",
    "text_series.str.lstrip('Text_')"
   ]
  },
  {
   "cell_type": "markdown",
   "id": "0b4d5c10",
   "metadata": {},
   "source": [
    "### Example-3"
   ]
  },
  {
   "cell_type": "code",
   "execution_count": 18,
   "id": "fdf1a1a7",
   "metadata": {},
   "outputs": [
    {
     "data": {
      "text/plain": [
       "0    $400,000\n",
       "1    $500,000\n",
       "2    $600,000\n",
       "dtype: object"
      ]
     },
     "execution_count": 18,
     "metadata": {},
     "output_type": "execute_result"
    }
   ],
   "source": [
    "house_prices = pd.Series(['$400,000','$500,000','$600,000'])\n",
    "house_prices"
   ]
  },
  {
   "cell_type": "code",
   "execution_count": 19,
   "id": "b3732ca3",
   "metadata": {},
   "outputs": [
    {
     "data": {
      "text/plain": [
       "0    True\n",
       "1    True\n",
       "2    True\n",
       "dtype: bool"
      ]
     },
     "execution_count": 19,
     "metadata": {},
     "output_type": "execute_result"
    }
   ],
   "source": [
    "house_prices.str.contains('$')"
   ]
  }
 ],
 "metadata": {
  "kernelspec": {
   "display_name": "Python 3 (ipykernel)",
   "language": "python",
   "name": "python3"
  },
  "language_info": {
   "codemirror_mode": {
    "name": "ipython",
    "version": 3
   },
   "file_extension": ".py",
   "mimetype": "text/x-python",
   "name": "python",
   "nbconvert_exporter": "python",
   "pygments_lexer": "ipython3",
   "version": "3.9.12"
  }
 },
 "nbformat": 4,
 "nbformat_minor": 5
}
