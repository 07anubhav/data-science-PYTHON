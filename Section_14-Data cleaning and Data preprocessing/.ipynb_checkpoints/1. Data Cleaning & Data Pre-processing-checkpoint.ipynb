{
 "cells": [
  {
   "cell_type": "markdown",
   "id": "a20e8c78",
   "metadata": {},
   "source": [
    "## Data Gathering -> Data Cleaning -> Data Pre-processing -> Data Visualization\n",
    "\n",
    "### Data Cleaning\n",
    "* Applying analytical and programming techniques to convert an incomprehensible dataset into a meaningful and quality format we can use for further processing. Data will be deprived of any inconsistencies so that we can apply statistical techniques.\n",
    "* This step aims to fix the problems that will inevitably occur with data gathering. Ex: Unreadable valies, duplicates values, missing values etc.\n",
    "* **Pandas** is used to clean the data and **NumPY** is used to pre-process it."
   ]
  },
  {
   "cell_type": "code",
   "execution_count": null,
   "id": "c9ec9b73",
   "metadata": {},
   "outputs": [],
   "source": []
  }
 ],
 "metadata": {
  "kernelspec": {
   "display_name": "Python 3 (ipykernel)",
   "language": "python",
   "name": "python3"
  },
  "language_info": {
   "codemirror_mode": {
    "name": "ipython",
    "version": 3
   },
   "file_extension": ".py",
   "mimetype": "text/x-python",
   "name": "python",
   "nbconvert_exporter": "python",
   "pygments_lexer": "ipython3",
   "version": "3.9.12"
  }
 },
 "nbformat": 4,
 "nbformat_minor": 5
}
