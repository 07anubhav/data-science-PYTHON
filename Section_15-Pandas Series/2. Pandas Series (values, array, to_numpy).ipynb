{
 "cells": [
  {
   "cell_type": "code",
   "execution_count": 1,
   "id": "6f3f02ed",
   "metadata": {},
   "outputs": [],
   "source": [
    "import pandas as pd\n",
    "import numpy as np"
   ]
  },
  {
   "cell_type": "code",
   "execution_count": 6,
   "id": "f5116b99",
   "metadata": {},
   "outputs": [
    {
     "data": {
      "text/plain": [
       "Product A    22250\n",
       "Product B    16600\n",
       "Product C    15600\n",
       "dtype: int64"
      ]
     },
     "execution_count": 6,
     "metadata": {},
     "output_type": "execute_result"
    }
   ],
   "source": [
    "price_per_category = pd.Series({'Product A': 22250,'Product B':16600,'Product C':15600})\n",
    "price_per_category"
   ]
  },
  {
   "cell_type": "markdown",
   "id": "12fc7d23",
   "metadata": {},
   "source": [
    "### .values"
   ]
  },
  {
   "cell_type": "code",
   "execution_count": 7,
   "id": "988b046e",
   "metadata": {},
   "outputs": [
    {
     "data": {
      "text/plain": [
       "array([22250, 16600, 15600], dtype=int64)"
      ]
     },
     "execution_count": 7,
     "metadata": {},
     "output_type": "execute_result"
    }
   ],
   "source": [
    "price_per_category.values"
   ]
  },
  {
   "cell_type": "code",
   "execution_count": 8,
   "id": "21b223da",
   "metadata": {},
   "outputs": [
    {
     "data": {
      "text/plain": [
       "pandas.core.series.Series"
      ]
     },
     "execution_count": 8,
     "metadata": {},
     "output_type": "execute_result"
    }
   ],
   "source": [
    "type(price_per_category)"
   ]
  },
  {
   "cell_type": "markdown",
   "id": "00fa4305",
   "metadata": {},
   "source": [
    "### .array\n",
    "* Will convert your Series into a pandas array (an extension array)"
   ]
  },
  {
   "cell_type": "code",
   "execution_count": 9,
   "id": "20fafe86",
   "metadata": {},
   "outputs": [
    {
     "data": {
      "text/plain": [
       "<PandasArray>\n",
       "[22250, 16600, 15600]\n",
       "Length: 3, dtype: int64"
      ]
     },
     "execution_count": 9,
     "metadata": {},
     "output_type": "execute_result"
    }
   ],
   "source": [
    "price_per_category.array"
   ]
  },
  {
   "cell_type": "code",
   "execution_count": 10,
   "id": "04a43006",
   "metadata": {},
   "outputs": [
    {
     "data": {
      "text/plain": [
       "pandas.core.arrays.numpy_.PandasArray"
      ]
     },
     "execution_count": 10,
     "metadata": {},
     "output_type": "execute_result"
    }
   ],
   "source": [
    "type(price_per_category.array)"
   ]
  },
  {
   "cell_type": "markdown",
   "id": "0547ebb3",
   "metadata": {},
   "source": [
    "### .to_numpy()\n",
    "* This method has been introduced to satisfy the increased demand for improved transformation of pandas Series into Numpy arrays\n",
    "* Will organize our information into a pure NumPY array structure"
   ]
  },
  {
   "cell_type": "code",
   "execution_count": 12,
   "id": "e0a2ee10",
   "metadata": {},
   "outputs": [
    {
     "data": {
      "text/plain": [
       "array([22250, 16600, 15600], dtype=int64)"
      ]
     },
     "execution_count": 12,
     "metadata": {},
     "output_type": "execute_result"
    }
   ],
   "source": [
    "price_per_category.to_numpy()"
   ]
  },
  {
   "cell_type": "code",
   "execution_count": 14,
   "id": "33a42562",
   "metadata": {},
   "outputs": [
    {
     "data": {
      "text/plain": [
       "numpy.ndarray"
      ]
     },
     "execution_count": 14,
     "metadata": {},
     "output_type": "execute_result"
    }
   ],
   "source": [
    "type(price_per_category.to_numpy())"
   ]
  },
  {
   "cell_type": "code",
   "execution_count": 16,
   "id": "23fe0416",
   "metadata": {},
   "outputs": [
    {
     "data": {
      "text/plain": [
       "array([22250., 16600.])"
      ]
     },
     "execution_count": 16,
     "metadata": {},
     "output_type": "execute_result"
    }
   ],
   "source": [
    "# lets suppose you want to change the data type of the data, it won't affect the main Series\n",
    "test_array = price_per_category[['Product A','Product B']].to_numpy(dtype='float')\n",
    "test_array"
   ]
  },
  {
   "cell_type": "code",
   "execution_count": 17,
   "id": "e1c80873",
   "metadata": {},
   "outputs": [
    {
     "data": {
      "text/plain": [
       "numpy.float64"
      ]
     },
     "execution_count": 17,
     "metadata": {},
     "output_type": "execute_result"
    }
   ],
   "source": [
    "type(test_array[0])"
   ]
  },
  {
   "cell_type": "code",
   "execution_count": 20,
   "id": "453a3a63",
   "metadata": {},
   "outputs": [
    {
     "data": {
      "text/plain": [
       "22250"
      ]
     },
     "execution_count": 20,
     "metadata": {},
     "output_type": "execute_result"
    }
   ],
   "source": [
    "price_per_category.values[0]"
   ]
  },
  {
   "cell_type": "code",
   "execution_count": 21,
   "id": "12133398",
   "metadata": {},
   "outputs": [
    {
     "data": {
      "text/plain": [
       "numpy.int64"
      ]
     },
     "execution_count": 21,
     "metadata": {},
     "output_type": "execute_result"
    }
   ],
   "source": [
    "type(price_per_category.values[0])"
   ]
  },
  {
   "cell_type": "code",
   "execution_count": 22,
   "id": "e6c4af5b",
   "metadata": {},
   "outputs": [
    {
     "data": {
      "text/plain": [
       "22250"
      ]
     },
     "execution_count": 22,
     "metadata": {},
     "output_type": "execute_result"
    }
   ],
   "source": [
    "price_per_category.to_numpy()[0]"
   ]
  },
  {
   "cell_type": "code",
   "execution_count": 24,
   "id": "37b3871e",
   "metadata": {},
   "outputs": [
    {
     "data": {
      "text/plain": [
       "numpy.int64"
      ]
     },
     "execution_count": 24,
     "metadata": {},
     "output_type": "execute_result"
    }
   ],
   "source": [
    "type(price_per_category.to_numpy()[0])"
   ]
  }
 ],
 "metadata": {
  "kernelspec": {
   "display_name": "Python 3 (ipykernel)",
   "language": "python",
   "name": "python3"
  },
  "language_info": {
   "codemirror_mode": {
    "name": "ipython",
    "version": 3
   },
   "file_extension": ".py",
   "mimetype": "text/x-python",
   "name": "python",
   "nbconvert_exporter": "python",
   "pygments_lexer": "ipython3",
   "version": "3.9.12"
  }
 },
 "nbformat": 4,
 "nbformat_minor": 5
}
