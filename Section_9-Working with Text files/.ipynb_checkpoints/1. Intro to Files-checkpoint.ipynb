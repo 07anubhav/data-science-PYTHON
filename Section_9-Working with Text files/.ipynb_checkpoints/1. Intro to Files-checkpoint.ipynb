{
 "cells": [
  {
   "cell_type": "markdown",
   "id": "5b911a99",
   "metadata": {},
   "source": [
    "* **File**: A file is any item that can be created, modified, stored or deleted by the user or the operating system.\n",
    "* Widely used text file formats are : .json, .xml, .csv, .txt, .xlsx\n",
    "* Python maintain 2 categories of files:\n",
    "    * **Text file**\n",
    "    * **Binary file** (machine language)\n",
    "* Text file and Text Data are 2 different terms\n",
    "    * **Text file**: A certain type of file\n",
    "    * **Text data**: Data which represents text, as opposed to numbers or boolean\n",
    "* **File Object** : A python object that contains data imported from a file.\n",
    "* **Reading** : Simply transferring its text (content) into the computer's memory\n",
    "* **Parsing** : Trying to understand the purpose of the python object.\n",
    "    * Like example: Photo copying an image with a machine can be considered as **Reading** that image. Then the person looking at the photocopied image and trying to understand what's in it as well as assign meaning to its different segement it's called **Parsing**."
   ]
  },
  {
   "cell_type": "markdown",
   "id": "d363dd77",
   "metadata": {},
   "source": [
    "#### Data Structure\n",
    "* A data structure is a specialized format for organizing, processing, retrieving and storing data.\n",
    "* **Structured Data (Traditional Data)**:\n",
    "    * Tabular form\n",
    "    * can be stored in database\n",
    "    * easy and quick access to a speicific data value\n",
    "    * Ex: excel spreadsheet, sql database, pandas dataframe\n",
    "* **Unstructured Data**:\n",
    "    * Information that is organised in a way that makes finding a specific piece of it is actually hard\n",
    "    * Ex: video, audio, web pages, presentation, photos etc.  \n",
    "* **Semi-structured Data**:\n",
    "    * Using different patterns for storing and organising the data for easier access and analysis.\n",
    "* **Big Data**:\n",
    "    * Refers to extremely large datasets that have been allocates on multiple computers"
   ]
  }
 ],
 "metadata": {
  "kernelspec": {
   "display_name": "Python 3 (ipykernel)",
   "language": "python",
   "name": "python3"
  },
  "language_info": {
   "codemirror_mode": {
    "name": "ipython",
    "version": 3
   },
   "file_extension": ".py",
   "mimetype": "text/x-python",
   "name": "python",
   "nbconvert_exporter": "python",
   "pygments_lexer": "ipython3",
   "version": "3.9.12"
  }
 },
 "nbformat": 4,
 "nbformat_minor": 5
}
