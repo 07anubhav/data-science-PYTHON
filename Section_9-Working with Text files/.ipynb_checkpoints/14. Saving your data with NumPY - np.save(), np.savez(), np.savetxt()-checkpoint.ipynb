{
 "cells": [
  {
   "cell_type": "code",
   "execution_count": 1,
   "id": "feb25d83",
   "metadata": {},
   "outputs": [],
   "source": [
    "import numpy as np"
   ]
  },
  {
   "cell_type": "code",
   "execution_count": 4,
   "id": "98504338",
   "metadata": {},
   "outputs": [
    {
     "data": {
      "text/plain": [
       "array([['LoanID', 'StringID', 'Product', ..., 'Location', 'Region',\n",
       "        'TotalPrice'],\n",
       "       ['1', 'id_1', 'Product B', ..., 'Location 2', 'Region 2',\n",
       "        '16600.0'],\n",
       "       ['2', 'id_2', 'Product B', ..., 'Location 3', '', '16600.0'],\n",
       "       ...,\n",
       "       ['1041', 'id_1041', 'Product B', ..., 'Location 23', 'Region 4',\n",
       "        '16600.0'],\n",
       "       ['1042', 'id_1042', 'Product C', ..., 'Location 52', 'Region 6',\n",
       "        '15600.0'],\n",
       "       ['1043', 'id_1043', 'Product B', ..., 'Location 142', 'Region 6',\n",
       "        '16600.0']], dtype='<U14')"
      ]
     },
     "execution_count": 4,
     "metadata": {},
     "output_type": "execute_result"
    }
   ],
   "source": [
    "lending_co = np.genfromtxt('Lending-Company-Saving.csv',\n",
    "                          delimiter=',',\n",
    "                          dtype=str)\n",
    "lending_co"
   ]
  },
  {
   "cell_type": "markdown",
   "id": "66a1fd19",
   "metadata": {},
   "source": [
    "## np.save()"
   ]
  },
  {
   "cell_type": "markdown",
   "id": "21ee1c95",
   "metadata": {},
   "source": [
    "#### np.save() method will create '.npy' in the same directory as your notebook\n",
    "* .npy files are faster to work with\n",
    "* more compact\n",
    "* entire dataset keeps its format, we dont need to worry about the specifying and reorgainizing the values from the external file.\n",
    "* .npy is is technically a text file\n",
    "* When we load the dataset to python it will consider them as numbers automatically\n",
    "\n",
    "### load-a-dataset != import-a-dataset\n",
    "* Loading, we don't need to specify or change our data while working with our python object.\n",
    "* Importing, doesn't keep track of the datatype of the original array, we may need to specify the datatype of the values after having brought them into python"
   ]
  },
  {
   "cell_type": "code",
   "execution_count": 6,
   "id": "847db6dd",
   "metadata": {},
   "outputs": [],
   "source": [
    "np.save('lending-company-saving',lending_co)"
   ]
  },
  {
   "cell_type": "code",
   "execution_count": 7,
   "id": "ceba0d0d",
   "metadata": {},
   "outputs": [
    {
     "name": "stdout",
     "output_type": "stream",
     "text": [
      "[['LoanID' 'StringID' 'Product' ... 'Location' 'Region' 'TotalPrice']\n",
      " ['1' 'id_1' 'Product B' ... 'Location 2' 'Region 2' '16600.0']\n",
      " ['2' 'id_2' 'Product B' ... 'Location 3' '' '16600.0']\n",
      " ...\n",
      " ['1041' 'id_1041' 'Product B' ... 'Location 23' 'Region 4' '16600.0']\n",
      " ['1042' 'id_1042' 'Product C' ... 'Location 52' 'Region 6' '15600.0']\n",
      " ['1043' 'id_1043' 'Product B' ... 'Location 142' 'Region 6' '16600.0']]\n"
     ]
    }
   ],
   "source": [
    "lending_data_save = np.load('lending-company-saving.npy')\n",
    "print(lending_data_save)"
   ]
  },
  {
   "cell_type": "code",
   "execution_count": 8,
   "id": "8686a5bd",
   "metadata": {},
   "outputs": [
    {
     "data": {
      "text/plain": [
       "True"
      ]
     },
     "execution_count": 8,
     "metadata": {},
     "output_type": "execute_result"
    }
   ],
   "source": [
    "np.array_equal(lending_data_save,lending_co)"
   ]
  },
  {
   "cell_type": "markdown",
   "id": "537d8035",
   "metadata": {},
   "source": [
    "## np.savez()"
   ]
  },
  {
   "cell_type": "code",
   "execution_count": null,
   "id": "3a8ed8dc",
   "metadata": {},
   "outputs": [],
   "source": []
  }
 ],
 "metadata": {
  "kernelspec": {
   "display_name": "Python 3 (ipykernel)",
   "language": "python",
   "name": "python3"
  },
  "language_info": {
   "codemirror_mode": {
    "name": "ipython",
    "version": 3
   },
   "file_extension": ".py",
   "mimetype": "text/x-python",
   "name": "python",
   "nbconvert_exporter": "python",
   "pygments_lexer": "ipython3",
   "version": "3.9.12"
  }
 },
 "nbformat": 4,
 "nbformat_minor": 5
}
