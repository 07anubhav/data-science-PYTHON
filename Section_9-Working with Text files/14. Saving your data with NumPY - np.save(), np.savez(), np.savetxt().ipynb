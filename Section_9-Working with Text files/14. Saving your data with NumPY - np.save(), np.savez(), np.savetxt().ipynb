{
 "cells": [
  {
   "cell_type": "code",
   "execution_count": 1,
   "id": "feb25d83",
   "metadata": {},
   "outputs": [],
   "source": [
    "import numpy as np"
   ]
  },
  {
   "cell_type": "code",
   "execution_count": 2,
   "id": "98504338",
   "metadata": {},
   "outputs": [
    {
     "data": {
      "text/plain": [
       "array([['LoanID', 'StringID', 'Product', ..., 'Location', 'Region',\n",
       "        'TotalPrice'],\n",
       "       ['1', 'id_1', 'Product B', ..., 'Location 2', 'Region 2',\n",
       "        '16600.0'],\n",
       "       ['2', 'id_2', 'Product B', ..., 'Location 3', '', '16600.0'],\n",
       "       ...,\n",
       "       ['1041', 'id_1041', 'Product B', ..., 'Location 23', 'Region 4',\n",
       "        '16600.0'],\n",
       "       ['1042', 'id_1042', 'Product C', ..., 'Location 52', 'Region 6',\n",
       "        '15600.0'],\n",
       "       ['1043', 'id_1043', 'Product B', ..., 'Location 142', 'Region 6',\n",
       "        '16600.0']], dtype='<U14')"
      ]
     },
     "execution_count": 2,
     "metadata": {},
     "output_type": "execute_result"
    }
   ],
   "source": [
    "lending_co = np.genfromtxt('Lending-Company-Saving.csv',\n",
    "                          delimiter=',',\n",
    "                          dtype=str)\n",
    "lending_co"
   ]
  },
  {
   "cell_type": "markdown",
   "id": "66a1fd19",
   "metadata": {},
   "source": [
    "## np.save()"
   ]
  },
  {
   "cell_type": "markdown",
   "id": "21ee1c95",
   "metadata": {},
   "source": [
    "#### np.save() method will create '.npy' in the same directory as your notebook\n",
    "* .npy files are faster to work with\n",
    "* more compact\n",
    "* entire dataset keeps its format, we dont need to worry about the specifying and reorgainizing the values from the external file.\n",
    "* .npy is is technically a text file\n",
    "* When we load the dataset to python it will consider them as numbers automatically\n",
    "\n",
    "### load-a-dataset != import-a-dataset\n",
    "* Loading, we don't need to specify or change our data while working with our python object.\n",
    "* Importing, doesn't keep track of the datatype of the original array, we may need to specify the datatype of the values after having brought them into python"
   ]
  },
  {
   "cell_type": "code",
   "execution_count": 3,
   "id": "847db6dd",
   "metadata": {},
   "outputs": [],
   "source": [
    "np.save('lending-company-saving',lending_co)"
   ]
  },
  {
   "cell_type": "code",
   "execution_count": 4,
   "id": "ceba0d0d",
   "metadata": {},
   "outputs": [
    {
     "name": "stdout",
     "output_type": "stream",
     "text": [
      "[['LoanID' 'StringID' 'Product' ... 'Location' 'Region' 'TotalPrice']\n",
      " ['1' 'id_1' 'Product B' ... 'Location 2' 'Region 2' '16600.0']\n",
      " ['2' 'id_2' 'Product B' ... 'Location 3' '' '16600.0']\n",
      " ...\n",
      " ['1041' 'id_1041' 'Product B' ... 'Location 23' 'Region 4' '16600.0']\n",
      " ['1042' 'id_1042' 'Product C' ... 'Location 52' 'Region 6' '15600.0']\n",
      " ['1043' 'id_1043' 'Product B' ... 'Location 142' 'Region 6' '16600.0']]\n"
     ]
    }
   ],
   "source": [
    "lending_data_save = np.load('lending-company-saving.npy')\n",
    "print(lending_data_save)"
   ]
  },
  {
   "cell_type": "code",
   "execution_count": 5,
   "id": "8686a5bd",
   "metadata": {},
   "outputs": [
    {
     "data": {
      "text/plain": [
       "True"
      ]
     },
     "execution_count": 5,
     "metadata": {},
     "output_type": "execute_result"
    }
   ],
   "source": [
    "np.array_equal(lending_data_save,lending_co)"
   ]
  },
  {
   "cell_type": "markdown",
   "id": "537d8035",
   "metadata": {},
   "source": [
    "## np.savez()\n",
    "* It doesn't create an .npy file\n",
    "* It creates **.npz** file\n",
    "* **npz** is like an archive of NPYs that can store multiple arrays\n",
    "* Instead of storing different datasets in seperate **npy** files, we can store all of them in a single **npz**\n",
    "* By default the **npz** files stores each dataset as a separate array with a generic name"
   ]
  },
  {
   "cell_type": "code",
   "execution_count": 6,
   "id": "3a8ed8dc",
   "metadata": {},
   "outputs": [],
   "source": [
    "lending_co = np.genfromtxt('Lending-Company-Saving.csv',\n",
    "                          delimiter=',',\n",
    "                          dtype=str)\n",
    "lending_data_save = np.load('lending-company-saving.npy')"
   ]
  },
  {
   "cell_type": "code",
   "execution_count": 7,
   "id": "11d90d5e",
   "metadata": {},
   "outputs": [],
   "source": [
    "np.savez(\"Lending-Company-Saving\",lending_co,lending_data_save)"
   ]
  },
  {
   "cell_type": "code",
   "execution_count": 9,
   "id": "e3593c35",
   "metadata": {},
   "outputs": [
    {
     "name": "stdout",
     "output_type": "stream",
     "text": [
      "<numpy.lib.npyio.NpzFile object at 0x00000217DEC6F640>\n"
     ]
    }
   ],
   "source": [
    "lending_data_savez = np.load('Lending-Company-Saving.npz')\n",
    "print(lending_data_savez)"
   ]
  },
  {
   "cell_type": "markdown",
   "id": "73e85644",
   "metadata": {},
   "source": [
    "To open first array"
   ]
  },
  {
   "cell_type": "code",
   "execution_count": 10,
   "id": "1a89f572",
   "metadata": {},
   "outputs": [
    {
     "name": "stdout",
     "output_type": "stream",
     "text": [
      "[['LoanID' 'StringID' 'Product' ... 'Location' 'Region' 'TotalPrice']\n",
      " ['1' 'id_1' 'Product B' ... 'Location 2' 'Region 2' '16600.0']\n",
      " ['2' 'id_2' 'Product B' ... 'Location 3' '' '16600.0']\n",
      " ...\n",
      " ['1041' 'id_1041' 'Product B' ... 'Location 23' 'Region 4' '16600.0']\n",
      " ['1042' 'id_1042' 'Product C' ... 'Location 52' 'Region 6' '15600.0']\n",
      " ['1043' 'id_1043' 'Product B' ... 'Location 142' 'Region 6' '16600.0']]\n"
     ]
    }
   ],
   "source": [
    "print(lending_data_savez['arr_0'])"
   ]
  },
  {
   "cell_type": "code",
   "execution_count": 11,
   "id": "74cb3708",
   "metadata": {},
   "outputs": [
    {
     "name": "stdout",
     "output_type": "stream",
     "text": [
      "[['LoanID' 'StringID' 'Product' ... 'Location' 'Region' 'TotalPrice']\n",
      " ['1' 'id_1' 'Product B' ... 'Location 2' 'Region 2' '16600.0']\n",
      " ['2' 'id_2' 'Product B' ... 'Location 3' '' '16600.0']\n",
      " ...\n",
      " ['1041' 'id_1041' 'Product B' ... 'Location 23' 'Region 4' '16600.0']\n",
      " ['1042' 'id_1042' 'Product C' ... 'Location 52' 'Region 6' '15600.0']\n",
      " ['1043' 'id_1043' 'Product B' ... 'Location 142' 'Region 6' '16600.0']]\n"
     ]
    }
   ],
   "source": [
    "print(lending_data_savez[\"arr_1\"])"
   ]
  },
  {
   "cell_type": "code",
   "execution_count": 12,
   "id": "8bffaa84",
   "metadata": {},
   "outputs": [],
   "source": [
    "np.savez(\"Lending-Company-Saving\",company=lending_co,data_save=lending_data_save)"
   ]
  },
  {
   "cell_type": "code",
   "execution_count": 13,
   "id": "29ebfdaa",
   "metadata": {},
   "outputs": [],
   "source": [
    "lending_data_savez = np.load('Lending-Company-Saving.npz')"
   ]
  },
  {
   "cell_type": "code",
   "execution_count": 14,
   "id": "df52c470",
   "metadata": {},
   "outputs": [
    {
     "data": {
      "text/plain": [
       "['company', 'data_save']"
      ]
     },
     "execution_count": 14,
     "metadata": {},
     "output_type": "execute_result"
    }
   ],
   "source": [
    "lending_data_savez.files"
   ]
  },
  {
   "cell_type": "code",
   "execution_count": 18,
   "id": "ce35c190",
   "metadata": {},
   "outputs": [
    {
     "name": "stdout",
     "output_type": "stream",
     "text": [
      "[['LoanID' 'StringID' 'Product' ... 'Location' 'Region' 'TotalPrice']\n",
      " ['1' 'id_1' 'Product B' ... 'Location 2' 'Region 2' '16600.0']\n",
      " ['2' 'id_2' 'Product B' ... 'Location 3' '' '16600.0']\n",
      " ...\n",
      " ['1041' 'id_1041' 'Product B' ... 'Location 23' 'Region 4' '16600.0']\n",
      " ['1042' 'id_1042' 'Product C' ... 'Location 52' 'Region 6' '15600.0']\n",
      " ['1043' 'id_1043' 'Product B' ... 'Location 142' 'Region 6' '16600.0']]\n"
     ]
    }
   ],
   "source": [
    "print(lending_data_savez[\"company\"])"
   ]
  },
  {
   "cell_type": "code",
   "execution_count": 19,
   "id": "c6cb91e2",
   "metadata": {},
   "outputs": [
    {
     "name": "stdout",
     "output_type": "stream",
     "text": [
      "[['LoanID' 'StringID' 'Product' ... 'Location' 'Region' 'TotalPrice']\n",
      " ['1' 'id_1' 'Product B' ... 'Location 2' 'Region 2' '16600.0']\n",
      " ['2' 'id_2' 'Product B' ... 'Location 3' '' '16600.0']\n",
      " ...\n",
      " ['1041' 'id_1041' 'Product B' ... 'Location 23' 'Region 4' '16600.0']\n",
      " ['1042' 'id_1042' 'Product C' ... 'Location 52' 'Region 6' '15600.0']\n",
      " ['1043' 'id_1043' 'Product B' ... 'Location 142' 'Region 6' '16600.0']]\n"
     ]
    }
   ],
   "source": [
    "print(lending_data_savez['data_save'])"
   ]
  },
  {
   "cell_type": "code",
   "execution_count": 20,
   "id": "d55bd40b",
   "metadata": {},
   "outputs": [
    {
     "data": {
      "text/plain": [
       "True"
      ]
     },
     "execution_count": 20,
     "metadata": {},
     "output_type": "execute_result"
    }
   ],
   "source": [
    "np.array_equal(lending_data_savez['company'],lending_data_savez['data_save'])"
   ]
  },
  {
   "cell_type": "markdown",
   "id": "559880fe",
   "metadata": {},
   "source": [
    "## np.savetxt()\n",
    "* Helps store NumPY datasets in text files **.txt** or **.csv**"
   ]
  },
  {
   "cell_type": "code",
   "execution_count": 21,
   "id": "332d18a9",
   "metadata": {},
   "outputs": [],
   "source": [
    "lending_co = np.genfromtxt('Lending-Company-Saving.csv',\n",
    "                          delimiter=',',\n",
    "                          dtype=str)\n",
    "np.savetxt(\"Lending-Company-Saving.txt\",\n",
    "          lending_co,\n",
    "          fmt='%s',\n",
    "          delimiter=',')"
   ]
  },
  {
   "cell_type": "code",
   "execution_count": 22,
   "id": "ea8a0551",
   "metadata": {},
   "outputs": [
    {
     "data": {
      "text/plain": [
       "array([['LoanID', 'StringID', 'Product', ..., 'Location', 'Region',\n",
       "        'TotalPrice'],\n",
       "       ['1', 'id_1', 'Product B', ..., 'Location 2', 'Region 2',\n",
       "        '16600.0'],\n",
       "       ['2', 'id_2', 'Product B', ..., 'Location 3', '', '16600.0'],\n",
       "       ...,\n",
       "       ['1041', 'id_1041', 'Product B', ..., 'Location 23', 'Region 4',\n",
       "        '16600.0'],\n",
       "       ['1042', 'id_1042', 'Product C', ..., 'Location 52', 'Region 6',\n",
       "        '15600.0'],\n",
       "       ['1043', 'id_1043', 'Product B', ..., 'Location 142', 'Region 6',\n",
       "        '16600.0']], dtype='<U14')"
      ]
     },
     "execution_count": 22,
     "metadata": {},
     "output_type": "execute_result"
    }
   ],
   "source": [
    "lending_data_savetxt = np.genfromtxt('Lending-Company-Saving.txt',\n",
    "                                    delimiter=',',\n",
    "                                    dtype=str)\n",
    "lending_data_savetxt"
   ]
  },
  {
   "cell_type": "code",
   "execution_count": 23,
   "id": "9b7b7c8a",
   "metadata": {},
   "outputs": [
    {
     "data": {
      "text/plain": [
       "True"
      ]
     },
     "execution_count": 23,
     "metadata": {},
     "output_type": "execute_result"
    }
   ],
   "source": [
    "np.array_equal(lending_data_savetxt,lending_data_save)"
   ]
  }
 ],
 "metadata": {
  "kernelspec": {
   "display_name": "Python 3 (ipykernel)",
   "language": "python",
   "name": "python3"
  },
  "language_info": {
   "codemirror_mode": {
    "name": "ipython",
    "version": 3
   },
   "file_extension": ".py",
   "mimetype": "text/x-python",
   "name": "python",
   "nbconvert_exporter": "python",
   "pygments_lexer": "ipython3",
   "version": "3.9.12"
  }
 },
 "nbformat": 4,
 "nbformat_minor": 5
}
