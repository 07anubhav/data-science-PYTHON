{
 "cells": [
  {
   "cell_type": "code",
   "execution_count": 1,
   "id": "285ed662",
   "metadata": {},
   "outputs": [],
   "source": [
    "import pandas as pd\n",
    "import numpy as np"
   ]
  },
  {
   "cell_type": "code",
   "execution_count": 2,
   "id": "9b569959",
   "metadata": {},
   "outputs": [
    {
     "data": {
      "text/plain": [
       "array([[ 2000.,    40.,   365.,  3121.,  4241., 13621.],\n",
       "       [ 2000.,    40.,   365.,  3061.,  4171., 15041.],\n",
       "       [ 1000.,    40.,   365.,  2160.,  3280., 15340.],\n",
       "       ...,\n",
       "       [   nan,    40.,   365.,  4201.,  5001., 16600.],\n",
       "       [ 1000.,    40.,   365.,  2080.,  3320., 15600.],\n",
       "       [ 2000.,    40.,   365.,  4601.,  4601., 16600.]])"
      ]
     },
     "execution_count": 2,
     "metadata": {},
     "output_type": "execute_result"
    }
   ],
   "source": [
    "lending_co_data_numeric_NAN2 = np.genfromtxt('Lending-Company-Numeric-Data-NAN.csv',delimiter=';')\n",
    "lending_co_data_numeric_NAN2"
   ]
  },
  {
   "cell_type": "code",
   "execution_count": 3,
   "id": "bdd5fc15",
   "metadata": {},
   "outputs": [
    {
     "data": {
      "text/plain": [
       "array([[ 1000.,    40.,   365.,  2160.,  3280., 15340.],\n",
       "       [ 2000.,    40.,   365.,  3041.,  4241., 15321.],\n",
       "       [ 2000.,    50.,   365.,  3470.,  4820., 13720.],\n",
       "       ...,\n",
       "       [   nan,    40.,   365.,  4201.,  5001., 16600.],\n",
       "       [ 1000.,    40.,   365.,  2080.,  3320., 15600.],\n",
       "       [ 2000.,    40.,   365.,  4601.,  4601., 16600.]])"
      ]
     },
     "execution_count": 3,
     "metadata": {},
     "output_type": "execute_result"
    }
   ],
   "source": [
    "# 'skip_header=n' will remove the first 2 line of the dataset (becomes convinent when text files include several lines of \n",
    "# comments and notes from the authors)\n",
    "lending_co_data_numeric_NAN2 = np.genfromtxt('Lending-Company-Numeric-Data-NAN.csv',delimiter=';',skip_header=2)\n",
    "lending_co_data_numeric_NAN2"
   ]
  },
  {
   "cell_type": "code",
   "execution_count": 5,
   "id": "c3903757",
   "metadata": {},
   "outputs": [
    {
     "data": {
      "text/plain": [
       "array([[ 2000.,    40.,   365.,  3121.,  4241., 13621.],\n",
       "       [ 2000.,    40.,   365.,  3061.,  4171., 15041.],\n",
       "       [ 1000.,    40.,   365.,  2160.,  3280., 15340.],\n",
       "       ...,\n",
       "       [ 2000.,    40.,   365.,  3401.,    nan, 16600.],\n",
       "       [ 2000.,    40.,   365.,    nan,  5440., 16600.],\n",
       "       [   nan,    40.,   365.,  4201.,  5001., 16600.]])"
      ]
     },
     "execution_count": 5,
     "metadata": {},
     "output_type": "execute_result"
    }
   ],
   "source": [
    "# # 'skip_footer=n'\n",
    "lending_co_data_numeric_NAN2 = np.genfromtxt('Lending-Company-Numeric-Data-NAN.csv',delimiter=';',skip_footer=2)\n",
    "lending_co_data_numeric_NAN2"
   ]
  },
  {
   "cell_type": "code",
   "execution_count": 7,
   "id": "d673c16e",
   "metadata": {},
   "outputs": [
    {
     "data": {
      "text/plain": [
       "array([2000., 2000., 1000., ...,   nan, 1000., 2000.])"
      ]
     },
     "execution_count": 7,
     "metadata": {},
     "output_type": "execute_result"
    }
   ],
   "source": [
    "# 'usecols=(0,1,2,...,n)' will tell python we're only interested in the following column\n",
    "lending_co_data_numeric_NAN2 = np.genfromtxt('Lending-Company-Numeric-Data-NAN.csv',\n",
    "                                             delimiter=';',\n",
    "                                             usecols=0)\n",
    "lending_co_data_numeric_NAN2"
   ]
  },
  {
   "cell_type": "code",
   "execution_count": 8,
   "id": "fdf03502",
   "metadata": {},
   "outputs": [
    {
     "data": {
      "text/plain": [
       "array([[ 2000.,    40., 13621.],\n",
       "       [ 2000.,    40., 15041.],\n",
       "       [ 1000.,    40., 15340.],\n",
       "       ...,\n",
       "       [   nan,    40., 16600.],\n",
       "       [ 1000.,    40., 15600.],\n",
       "       [ 2000.,    40., 16600.]])"
      ]
     },
     "execution_count": 8,
     "metadata": {},
     "output_type": "execute_result"
    }
   ],
   "source": [
    "lending_co_data_numeric_NAN2 = np.genfromtxt('Lending-Company-Numeric-Data-NAN.csv',\n",
    "                                             delimiter=';',\n",
    "                                             usecols=(0,1,5))\n",
    "lending_co_data_numeric_NAN2"
   ]
  },
  {
   "cell_type": "code",
   "execution_count": 9,
   "id": "22ec8794",
   "metadata": {},
   "outputs": [
    {
     "data": {
      "text/plain": [
       "array([[ 1000.,    40., 15340.],\n",
       "       [ 2000.,    40., 15321.],\n",
       "       [ 2000.,    50., 13720.],\n",
       "       ...,\n",
       "       [ 2000.,    40., 16600.],\n",
       "       [ 2000.,    40., 16600.],\n",
       "       [   nan,    40., 16600.]])"
      ]
     },
     "execution_count": 9,
     "metadata": {},
     "output_type": "execute_result"
    }
   ],
   "source": [
    "lending_co_data_numeric_NAN2 = np.genfromtxt('Lending-Company-Numeric-Data-NAN.csv',\n",
    "                                             delimiter=';',\n",
    "                                             usecols=(0,1,5),\n",
    "                                            skip_header=2,\n",
    "                                            skip_footer=2)\n",
    "lending_co_data_numeric_NAN2"
   ]
  },
  {
   "cell_type": "code",
   "execution_count": 11,
   "id": "79a48203",
   "metadata": {},
   "outputs": [],
   "source": [
    "lending_co_data_0, lending_co_data_1, lending_co_data_5 = np.genfromtxt('Lending-Company-Numeric-Data-NAN.csv',\n",
    "                                             delimiter=';',\n",
    "                                             usecols=(0,1,5),\n",
    "                                            skip_header=2,\n",
    "                                            skip_footer=2,\n",
    "                                            unpack=True)"
   ]
  },
  {
   "cell_type": "code",
   "execution_count": 14,
   "id": "d28cda2b",
   "metadata": {},
   "outputs": [
    {
     "name": "stdout",
     "output_type": "stream",
     "text": [
      "[1000. 2000. 2000. ... 2000. 2000.   nan]\n",
      "[40. 40. 50. ... 40. 40. 40.]\n",
      "[15340. 15321. 13720. ... 16600. 16600. 16600.]\n"
     ]
    }
   ],
   "source": [
    "print(lending_co_data_0)\n",
    "print(lending_co_data_1)\n",
    "print(lending_co_data_5)"
   ]
  }
 ],
 "metadata": {
  "kernelspec": {
   "display_name": "Python 3 (ipykernel)",
   "language": "python",
   "name": "python3"
  },
  "language_info": {
   "codemirror_mode": {
    "name": "ipython",
    "version": 3
   },
   "file_extension": ".py",
   "mimetype": "text/x-python",
   "name": "python",
   "nbconvert_exporter": "python",
   "pygments_lexer": "ipython3",
   "version": "3.9.12"
  }
 },
 "nbformat": 4,
 "nbformat_minor": 5
}
