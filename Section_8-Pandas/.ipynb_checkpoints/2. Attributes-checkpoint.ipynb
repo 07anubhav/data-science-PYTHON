{
 "cells": [
  {
   "cell_type": "markdown",
   "id": "a4bca984",
   "metadata": {},
   "source": [
    "* Attributes: A variable providing metadata about an object.\n",
    "* Methods: A function that can be associated with an object.\n",
    "* Python objects represents a collection of attributes and methods.\n",
    "* The attribute related to a certain python object allow us to extract information about it but they are not meant to alter or modify its content in anyway. "
   ]
  },
  {
   "cell_type": "code",
   "execution_count": 1,
   "id": "220b3c2c",
   "metadata": {},
   "outputs": [],
   "source": [
    "import pandas as pd\n",
    "import numpy as np"
   ]
  },
  {
   "cell_type": "code",
   "execution_count": 2,
   "id": "07a4276f",
   "metadata": {},
   "outputs": [
    {
     "data": {
      "text/plain": [
       "0    10\n",
       "1    20\n",
       "2    30\n",
       "3    40\n",
       "4    50\n",
       "dtype: int32"
      ]
     },
     "execution_count": 2,
     "metadata": {},
     "output_type": "execute_result"
    }
   ],
   "source": [
    "array_a = np.array([10,20,30,40,50])\n",
    "\n",
    "series_a = pd.Series(array_a)\n",
    "series_a"
   ]
  },
  {
   "cell_type": "code",
   "execution_count": 3,
   "id": "16e25874",
   "metadata": {},
   "outputs": [
    {
     "data": {
      "text/plain": [
       "pandas.core.series.Series"
      ]
     },
     "execution_count": 3,
     "metadata": {},
     "output_type": "execute_result"
    }
   ],
   "source": [
    "type(series_a)"
   ]
  },
  {
   "cell_type": "code",
   "execution_count": 4,
   "id": "e5ad1563",
   "metadata": {},
   "outputs": [
    {
     "data": {
      "text/plain": [
       "5"
      ]
     },
     "execution_count": 4,
     "metadata": {},
     "output_type": "execute_result"
    }
   ],
   "source": [
    "series_a.size"
   ]
  },
  {
   "cell_type": "code",
   "execution_count": 5,
   "id": "d0e71840",
   "metadata": {},
   "outputs": [
    {
     "data": {
      "text/plain": [
       "0    a\n",
       "1    v\n",
       "2    g\n",
       "3    e\n",
       "4    u\n",
       "dtype: object"
      ]
     },
     "execution_count": 5,
     "metadata": {},
     "output_type": "execute_result"
    }
   ],
   "source": [
    "product_categories = pd.Series(['a','v','g','e','u'])\n",
    "product_categories"
   ]
  },
  {
   "cell_type": "code",
   "execution_count": 6,
   "id": "bf63939b",
   "metadata": {},
   "outputs": [
    {
     "data": {
      "text/plain": [
       "dtype('O')"
      ]
     },
     "execution_count": 6,
     "metadata": {},
     "output_type": "execute_result"
    }
   ],
   "source": [
    "product_categories.dtype"
   ]
  },
  {
   "cell_type": "code",
   "execution_count": 7,
   "id": "7ca16913",
   "metadata": {},
   "outputs": [
    {
     "data": {
      "text/plain": [
       "5"
      ]
     },
     "execution_count": 7,
     "metadata": {},
     "output_type": "execute_result"
    }
   ],
   "source": [
    "product_categories.size"
   ]
  },
  {
   "cell_type": "markdown",
   "id": "ed27232b",
   "metadata": {},
   "source": [
    "* product_categories - the name we can use to refer to that object in our code\n",
    "* The object name - the one you want to see whenever displaying its contents"
   ]
  },
  {
   "cell_type": "code",
   "execution_count": 8,
   "id": "8a43bd01",
   "metadata": {},
   "outputs": [
    {
     "name": "stdout",
     "output_type": "stream",
     "text": [
      "None\n"
     ]
    }
   ],
   "source": [
    "print(product_categories.name)"
   ]
  },
  {
   "cell_type": "code",
   "execution_count": 9,
   "id": "425369df",
   "metadata": {},
   "outputs": [
    {
     "data": {
      "text/plain": [
       "0    a\n",
       "1    v\n",
       "2    g\n",
       "3    e\n",
       "4    u\n",
       "Name: Product Categories, dtype: object"
      ]
     },
     "execution_count": 9,
     "metadata": {},
     "output_type": "execute_result"
    }
   ],
   "source": [
    "product_categories.name = 'Product Categories'\n",
    "product_categories"
   ]
  },
  {
   "cell_type": "code",
   "execution_count": 10,
   "id": "bc4f7851",
   "metadata": {},
   "outputs": [
    {
     "data": {
      "text/plain": [
       "'Product Categories'"
      ]
     },
     "execution_count": 10,
     "metadata": {},
     "output_type": "execute_result"
    }
   ],
   "source": [
    "product_categories.name"
   ]
  },
  {
   "cell_type": "code",
   "execution_count": null,
   "id": "0e05850c",
   "metadata": {},
   "outputs": [],
   "source": []
  }
 ],
 "metadata": {
  "kernelspec": {
   "display_name": "Python 3 (ipykernel)",
   "language": "python",
   "name": "python3"
  },
  "language_info": {
   "codemirror_mode": {
    "name": "ipython",
    "version": 3
   },
   "file_extension": ".py",
   "mimetype": "text/x-python",
   "name": "python",
   "nbconvert_exporter": "python",
   "pygments_lexer": "ipython3",
   "version": "3.9.12"
  }
 },
 "nbformat": 4,
 "nbformat_minor": 5
}
