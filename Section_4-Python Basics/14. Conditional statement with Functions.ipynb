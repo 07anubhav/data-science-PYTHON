{
 "cells": [
  {
   "cell_type": "code",
   "execution_count": 1,
   "id": "04efc749",
   "metadata": {},
   "outputs": [
    {
     "data": {
      "text/plain": [
       "120"
      ]
     },
     "execution_count": 1,
     "metadata": {},
     "output_type": "execute_result"
    }
   ],
   "source": [
    "def add_10(m):\n",
    "    if m >= 100:\n",
    "        m += 10\n",
    "        return m\n",
    "    else:\n",
    "        return 'Save more!!'\n",
    "    \n",
    "add_10(110)"
   ]
  },
  {
   "cell_type": "code",
   "execution_count": 2,
   "id": "633c18eb",
   "metadata": {},
   "outputs": [
    {
     "data": {
      "text/plain": [
       "'Save more!!'"
      ]
     },
     "execution_count": 2,
     "metadata": {},
     "output_type": "execute_result"
    }
   ],
   "source": [
    "add_10(40)"
   ]
  },
  {
   "cell_type": "code",
   "execution_count": 4,
   "id": "94f2b027",
   "metadata": {},
   "outputs": [
    {
     "name": "stdout",
     "output_type": "stream",
     "text": [
      "a:  10\n",
      "b:  3\n",
      "c:  2\n"
     ]
    },
    {
     "data": {
      "text/plain": [
       "4"
      ]
     },
     "execution_count": 4,
     "metadata": {},
     "output_type": "execute_result"
    }
   ],
   "source": [
    "def subtarct_bc(a,b,c):\n",
    "    result = a-b*c\n",
    "    print('a: ',a)\n",
    "    print('b: ',b)\n",
    "    print('c: ',c)\n",
    "    \n",
    "    return result\n",
    "\n",
    "subtarct_bc(10,3,2)"
   ]
  },
  {
   "cell_type": "code",
   "execution_count": null,
   "id": "e351936b",
   "metadata": {},
   "outputs": [],
   "source": []
  }
 ],
 "metadata": {
  "kernelspec": {
   "display_name": "Python 3 (ipykernel)",
   "language": "python",
   "name": "python3"
  },
  "language_info": {
   "codemirror_mode": {
    "name": "ipython",
    "version": 3
   },
   "file_extension": ".py",
   "mimetype": "text/x-python",
   "name": "python",
   "nbconvert_exporter": "python",
   "pygments_lexer": "ipython3",
   "version": "3.9.12"
  }
 },
 "nbformat": 4,
 "nbformat_minor": 5
}
