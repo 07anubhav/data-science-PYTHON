{
 "cells": [
  {
   "cell_type": "code",
   "execution_count": 1,
   "id": "dd45c75a",
   "metadata": {},
   "outputs": [
    {
     "data": {
      "text/plain": [
       "{'k1': 'cat', 'k2': 'dog', 'k3': 'mouse', 'k4': 'fish'}"
      ]
     },
     "execution_count": 1,
     "metadata": {},
     "output_type": "execute_result"
    }
   ],
   "source": [
    "dict = {'k1':'cat','k2':'dog','k3':\"mouse\",'k4':'fish'}\n",
    "dict"
   ]
  },
  {
   "cell_type": "code",
   "execution_count": 2,
   "id": "de1627cf",
   "metadata": {},
   "outputs": [
    {
     "data": {
      "text/plain": [
       "'cat'"
      ]
     },
     "execution_count": 2,
     "metadata": {},
     "output_type": "execute_result"
    }
   ],
   "source": [
    "dict['k1']"
   ]
  },
  {
   "cell_type": "code",
   "execution_count": 3,
   "id": "51151f09",
   "metadata": {},
   "outputs": [
    {
     "data": {
      "text/plain": [
       "'mouse'"
      ]
     },
     "execution_count": 3,
     "metadata": {},
     "output_type": "execute_result"
    }
   ],
   "source": [
    "dict[\"k3\"]"
   ]
  },
  {
   "cell_type": "code",
   "execution_count": 4,
   "id": "5d0879f6",
   "metadata": {},
   "outputs": [
    {
     "data": {
      "text/plain": [
       "{'k1': 'cat', 'k2': 'dog', 'k3': 'mouse', 'k4': 'fish', 'k5': 'parrot'}"
      ]
     },
     "execution_count": 4,
     "metadata": {},
     "output_type": "execute_result"
    }
   ],
   "source": [
    "dict['k5']='parrot'\n",
    "dict"
   ]
  },
  {
   "cell_type": "code",
   "execution_count": 5,
   "id": "7c16e3e7",
   "metadata": {},
   "outputs": [
    {
     "data": {
      "text/plain": [
       "{'k1': 'cat', 'k2': 'squirrel', 'k3': 'mouse', 'k4': 'fish', 'k5': 'parrot'}"
      ]
     },
     "execution_count": 5,
     "metadata": {},
     "output_type": "execute_result"
    }
   ],
   "source": [
    "dict['k2']='squirrel'\n",
    "dict"
   ]
  },
  {
   "cell_type": "code",
   "execution_count": 6,
   "id": "bfc6f249",
   "metadata": {},
   "outputs": [
    {
     "data": {
      "text/plain": [
       "{'dep1': 'peter', 'dep2': ['jennifer', 'michael', 'tommy']}"
      ]
     },
     "execution_count": 6,
     "metadata": {},
     "output_type": "execute_result"
    }
   ],
   "source": [
    "dep_workers={'dep1':'peter','dep2':['jennifer','michael','tommy']}\n",
    "dep_workers"
   ]
  },
  {
   "cell_type": "code",
   "execution_count": 7,
   "id": "946675c6",
   "metadata": {},
   "outputs": [
    {
     "data": {
      "text/plain": [
       "['jennifer', 'michael', 'tommy']"
      ]
     },
     "execution_count": 7,
     "metadata": {},
     "output_type": "execute_result"
    }
   ],
   "source": [
    "dep_workers['dep2']"
   ]
  },
  {
   "cell_type": "code",
   "execution_count": 8,
   "id": "b1f28906",
   "metadata": {},
   "outputs": [
    {
     "data": {
      "text/plain": [
       "'michael'"
      ]
     },
     "execution_count": 8,
     "metadata": {},
     "output_type": "execute_result"
    }
   ],
   "source": [
    "dep_workers['dep2'][1]"
   ]
  },
  {
   "cell_type": "markdown",
   "id": "9c6fad3b",
   "metadata": {},
   "source": [
    "## Creating dictionaries"
   ]
  },
  {
   "cell_type": "code",
   "execution_count": 11,
   "id": "20b769e0",
   "metadata": {},
   "outputs": [],
   "source": [
    "team={}\n",
    "team['team1']='dirk'\n",
    "team['team2']='al'\n",
    "team['team3']='sean'\n",
    "team['team4']='alexander'\n",
    "team['team5']='hector'"
   ]
  },
  {
   "cell_type": "code",
   "execution_count": 12,
   "id": "cb421c0e",
   "metadata": {},
   "outputs": [
    {
     "name": "stdout",
     "output_type": "stream",
     "text": [
      "{'team1': 'dirk', 'team2': 'al', 'team3': 'sean', 'team4': 'alexander', 'team5': 'hector'}\n"
     ]
    }
   ],
   "source": [
    "print(team)"
   ]
  },
  {
   "cell_type": "code",
   "execution_count": 13,
   "id": "ea487188",
   "metadata": {},
   "outputs": [
    {
     "data": {
      "text/plain": [
       "'sean'"
      ]
     },
     "execution_count": 13,
     "metadata": {},
     "output_type": "execute_result"
    }
   ],
   "source": [
    "team['team3']"
   ]
  },
  {
   "cell_type": "code",
   "execution_count": 14,
   "id": "17769552",
   "metadata": {},
   "outputs": [
    {
     "data": {
      "text/plain": [
       "'al'"
      ]
     },
     "execution_count": 14,
     "metadata": {},
     "output_type": "execute_result"
    }
   ],
   "source": [
    "team.get('team2')"
   ]
  },
  {
   "cell_type": "code",
   "execution_count": 16,
   "id": "e9be2d46",
   "metadata": {},
   "outputs": [
    {
     "name": "stdout",
     "output_type": "stream",
     "text": [
      "None\n"
     ]
    }
   ],
   "source": [
    "print(team.get('team6'))"
   ]
  },
  {
   "cell_type": "code",
   "execution_count": null,
   "id": "20bc6315",
   "metadata": {},
   "outputs": [],
   "source": []
  }
 ],
 "metadata": {
  "kernelspec": {
   "display_name": "Python 3 (ipykernel)",
   "language": "python",
   "name": "python3"
  },
  "language_info": {
   "codemirror_mode": {
    "name": "ipython",
    "version": 3
   },
   "file_extension": ".py",
   "mimetype": "text/x-python",
   "name": "python",
   "nbconvert_exporter": "python",
   "pygments_lexer": "ipython3",
   "version": "3.9.12"
  }
 },
 "nbformat": 4,
 "nbformat_minor": 5
}
