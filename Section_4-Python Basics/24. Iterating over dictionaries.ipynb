{
 "cells": [
  {
   "cell_type": "code",
   "execution_count": 1,
   "id": "5b523bbb",
   "metadata": {},
   "outputs": [],
   "source": [
    "prices={\n",
    "    'box_of_spaghetti':4,\n",
    "    'lasagna':5,\n",
    "    'hamburger':2\n",
    "}\n",
    "\n",
    "quantity={\n",
    "    'box_of_spaghetti':6,\n",
    "    'lasagna':10,\n",
    "    'hamburger':0\n",
    "}"
   ]
  },
  {
   "cell_type": "code",
   "execution_count": 3,
   "id": "e3f13e5f",
   "metadata": {},
   "outputs": [
    {
     "name": "stdout",
     "output_type": "stream",
     "text": [
      "box_of_spaghetti\n",
      "4\n",
      "6\n",
      "lasagna\n",
      "5\n",
      "10\n",
      "hamburger\n",
      "2\n",
      "0\n",
      "74\n"
     ]
    }
   ],
   "source": [
    "money_spent=0\n",
    "\n",
    "for i in prices:\n",
    "    print(i)\n",
    "    print(prices[i])\n",
    "    print(quantity[i])\n",
    "    money_spent = money_spent+(prices[i]*quantity[i])\n",
    "    \n",
    "print(money_spent)"
   ]
  },
  {
   "cell_type": "code",
   "execution_count": null,
   "id": "e26d4943",
   "metadata": {},
   "outputs": [],
   "source": []
  }
 ],
 "metadata": {
  "kernelspec": {
   "display_name": "Python 3 (ipykernel)",
   "language": "python",
   "name": "python3"
  },
  "language_info": {
   "codemirror_mode": {
    "name": "ipython",
    "version": 3
   },
   "file_extension": ".py",
   "mimetype": "text/x-python",
   "name": "python",
   "nbconvert_exporter": "python",
   "pygments_lexer": "ipython3",
   "version": "3.9.12"
  }
 },
 "nbformat": 4,
 "nbformat_minor": 5
}
