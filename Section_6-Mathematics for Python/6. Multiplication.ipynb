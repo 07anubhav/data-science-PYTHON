{
 "cells": [
  {
   "cell_type": "markdown",
   "id": "0ec84892",
   "metadata": {},
   "source": [
    "### Dot Product\n",
    "* The sum of the products of the corresponding elements\n",
    "* Note: We can only multiply an 'mxn' matrix with an 'nxk' matrix and the output will be 'mxk' matrix"
   ]
  },
  {
   "cell_type": "code",
   "execution_count": 1,
   "id": "7159b5d4",
   "metadata": {},
   "outputs": [],
   "source": [
    "import numpy as np"
   ]
  },
  {
   "cell_type": "code",
   "execution_count": 6,
   "id": "f8a731e6",
   "metadata": {},
   "outputs": [],
   "source": [
    "x = np.array([2,8,-4])\n",
    "y = np.array([1,-7,3])"
   ]
  },
  {
   "cell_type": "code",
   "execution_count": 20,
   "id": "51304bef",
   "metadata": {},
   "outputs": [
    {
     "data": {
      "text/plain": [
       "array([ 2,  8, -4])"
      ]
     },
     "execution_count": 20,
     "metadata": {},
     "output_type": "execute_result"
    }
   ],
   "source": [
    "x"
   ]
  },
  {
   "cell_type": "code",
   "execution_count": 21,
   "id": "b17ebae1",
   "metadata": {},
   "outputs": [
    {
     "data": {
      "text/plain": [
       "array([ 1, -7,  3])"
      ]
     },
     "execution_count": 21,
     "metadata": {},
     "output_type": "execute_result"
    }
   ],
   "source": [
    "y"
   ]
  },
  {
   "cell_type": "code",
   "execution_count": 7,
   "id": "e8cfaf00",
   "metadata": {},
   "outputs": [
    {
     "data": {
      "text/plain": [
       "-66"
      ]
     },
     "execution_count": 7,
     "metadata": {},
     "output_type": "execute_result"
    }
   ],
   "source": [
    "np.dot(x,y)"
   ]
  },
  {
   "cell_type": "markdown",
   "id": "f6046da4",
   "metadata": {},
   "source": [
    "### Scalar.Scalar"
   ]
  },
  {
   "cell_type": "code",
   "execution_count": 8,
   "id": "646488a2",
   "metadata": {},
   "outputs": [
    {
     "data": {
      "text/plain": [
       "30"
      ]
     },
     "execution_count": 8,
     "metadata": {},
     "output_type": "execute_result"
    }
   ],
   "source": [
    "np.dot(5,6)"
   ]
  },
  {
   "cell_type": "code",
   "execution_count": 9,
   "id": "7c003256",
   "metadata": {},
   "outputs": [
    {
     "data": {
      "text/plain": [
       "-20"
      ]
     },
     "execution_count": 9,
     "metadata": {},
     "output_type": "execute_result"
    }
   ],
   "source": [
    "np.dot(-10,2)"
   ]
  },
  {
   "cell_type": "markdown",
   "id": "74f3d669",
   "metadata": {},
   "source": [
    "### Scalar.Vector"
   ]
  },
  {
   "cell_type": "code",
   "execution_count": 10,
   "id": "8322cd7c",
   "metadata": {},
   "outputs": [
    {
     "data": {
      "text/plain": [
       "array([ 2,  8, -4])"
      ]
     },
     "execution_count": 10,
     "metadata": {},
     "output_type": "execute_result"
    }
   ],
   "source": [
    "x"
   ]
  },
  {
   "cell_type": "code",
   "execution_count": 11,
   "id": "655c4d88",
   "metadata": {},
   "outputs": [
    {
     "data": {
      "text/plain": [
       "array([ 10,  40, -20])"
      ]
     },
     "execution_count": 11,
     "metadata": {},
     "output_type": "execute_result"
    }
   ],
   "source": [
    "5*x"
   ]
  },
  {
   "cell_type": "markdown",
   "id": "38858b44",
   "metadata": {},
   "source": [
    "### Scalar.Matrix"
   ]
  },
  {
   "cell_type": "code",
   "execution_count": 12,
   "id": "dd007c9d",
   "metadata": {},
   "outputs": [
    {
     "data": {
      "text/plain": [
       "array([[ 5, 12,  6],\n",
       "       [-3,  0, 14]])"
      ]
     },
     "execution_count": 12,
     "metadata": {},
     "output_type": "execute_result"
    }
   ],
   "source": [
    "a = np.array([[5,12,6],[-3,0,14]])\n",
    "a"
   ]
  },
  {
   "cell_type": "code",
   "execution_count": 15,
   "id": "5bede5e4",
   "metadata": {},
   "outputs": [
    {
     "data": {
      "text/plain": [
       "array([[15, 36, 18],\n",
       "       [-9,  0, 42]])"
      ]
     },
     "execution_count": 15,
     "metadata": {},
     "output_type": "execute_result"
    }
   ],
   "source": [
    "np.dot(3,a)"
   ]
  },
  {
   "cell_type": "markdown",
   "id": "89c3191d",
   "metadata": {},
   "source": [
    "### Matrix.Matrix"
   ]
  },
  {
   "cell_type": "code",
   "execution_count": 16,
   "id": "8977442d",
   "metadata": {},
   "outputs": [],
   "source": [
    "a = np.array([[5,12,6],[-3,0,14]])\n",
    "b = np.array([[2,-1],[8,0],[3,0]])"
   ]
  },
  {
   "cell_type": "code",
   "execution_count": 17,
   "id": "38e421ac",
   "metadata": {},
   "outputs": [
    {
     "data": {
      "text/plain": [
       "array([[ 5, 12,  6],\n",
       "       [-3,  0, 14]])"
      ]
     },
     "execution_count": 17,
     "metadata": {},
     "output_type": "execute_result"
    }
   ],
   "source": [
    "a"
   ]
  },
  {
   "cell_type": "code",
   "execution_count": 18,
   "id": "c3a301ae",
   "metadata": {},
   "outputs": [
    {
     "data": {
      "text/plain": [
       "array([[ 2, -1],\n",
       "       [ 8,  0],\n",
       "       [ 3,  0]])"
      ]
     },
     "execution_count": 18,
     "metadata": {},
     "output_type": "execute_result"
    }
   ],
   "source": [
    "b"
   ]
  },
  {
   "cell_type": "raw",
   "id": "4888ba67",
   "metadata": {},
   "source": [
    "m11 = (5*2)+(12*8)+(6*3) -> 124\n",
    "m12 = (5*-1)+(12*0)+(6*0) -> -5\n",
    "\n",
    "m21 = (-3*2)+(0*8)+(14*3) -> 36\n",
    "m22 = (-3*-1)+(0*0)+(14*0) -> 3"
   ]
  },
  {
   "cell_type": "code",
   "execution_count": 19,
   "id": "2e615ff2",
   "metadata": {},
   "outputs": [
    {
     "data": {
      "text/plain": [
       "array([[124,  -5],\n",
       "       [ 36,   3]])"
      ]
     },
     "execution_count": 19,
     "metadata": {},
     "output_type": "execute_result"
    }
   ],
   "source": [
    "np.dot(a,b)"
   ]
  }
 ],
 "metadata": {
  "kernelspec": {
   "display_name": "Python 3 (ipykernel)",
   "language": "python",
   "name": "python3"
  },
  "language_info": {
   "codemirror_mode": {
    "name": "ipython",
    "version": 3
   },
   "file_extension": ".py",
   "mimetype": "text/x-python",
   "name": "python",
   "nbconvert_exporter": "python",
   "pygments_lexer": "ipython3",
   "version": "3.9.12"
  }
 },
 "nbformat": 4,
 "nbformat_minor": 5
}
