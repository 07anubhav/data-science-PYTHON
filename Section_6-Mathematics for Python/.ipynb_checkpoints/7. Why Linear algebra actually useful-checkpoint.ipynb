{
 "cells": [
  {
   "cell_type": "markdown",
   "id": "f83a0d90",
   "metadata": {},
   "source": [
    "### Applications in data science\n",
    "* Vectorized code : Whenever we are using linear algebra to compute many values simultaneously\n",
    "* Image recognition : Deep learning, CNNS (Convolutional Neural Networks) \n",
    "* Dimensionality reduction : Converting 3-D matrix to 2-D matrix"
   ]
  }
 ],
 "metadata": {
  "kernelspec": {
   "display_name": "Python 3 (ipykernel)",
   "language": "python",
   "name": "python3"
  },
  "language_info": {
   "codemirror_mode": {
    "name": "ipython",
    "version": 3
   },
   "file_extension": ".py",
   "mimetype": "text/x-python",
   "name": "python",
   "nbconvert_exporter": "python",
   "pygments_lexer": "ipython3",
   "version": "3.9.12"
  }
 },
 "nbformat": 4,
 "nbformat_minor": 5
}
