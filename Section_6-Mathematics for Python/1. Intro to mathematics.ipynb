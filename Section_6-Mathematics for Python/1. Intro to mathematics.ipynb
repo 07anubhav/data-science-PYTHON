{
 "cells": [
  {
   "cell_type": "markdown",
   "id": "ae38f1f9",
   "metadata": {},
   "source": [
    "## Matrix\n",
    "* A matrix is a collection of numbers ordered in rows and columns\n",
    "* 2-D\n",
    "* It is a collections of vectors\n",
    "\n",
    "## Scalar\n",
    "* A matrix having 1 row and 1 col, all numbers we know from algebra are referred to as scalars in linear algebra\n",
    "* It's and 1X1 matrix\n",
    "  Ex: [15],[2],[-2]\n",
    "* 0-D\n",
    "  \n",
    "## Vectors\n",
    "* A matrix having only 1 col or only 1 row, It'll be 1Xn or mX1 type matrix.\n",
    "* 1-D"
   ]
  }
 ],
 "metadata": {
  "kernelspec": {
   "display_name": "Python 3 (ipykernel)",
   "language": "python",
   "name": "python3"
  },
  "language_info": {
   "codemirror_mode": {
    "name": "ipython",
    "version": 3
   },
   "file_extension": ".py",
   "mimetype": "text/x-python",
   "name": "python",
   "nbconvert_exporter": "python",
   "pygments_lexer": "ipython3",
   "version": "3.9.12"
  }
 },
 "nbformat": 4,
 "nbformat_minor": 5
}
