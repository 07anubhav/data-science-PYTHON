{
 "cells": [
  {
   "cell_type": "markdown",
   "id": "24b705da",
   "metadata": {},
   "source": [
    "* Data can be classified in 2 types:\n",
    "    * Primary\n",
    "        * Data you have created. Ex: Any survey u did, Companies create data all the time\n",
    "    * Secondary\n",
    "        * Existing data that somebody else has gathered\n",
    "* **Web Scrapping:** Extracting information programmatically from websites\n",
    "    * Ex: Requesting webpage from a server, Extarcting the relevant data from the HTML document that is sent to you\n",
    "* Disadvantage of **Web Scrapping**:\n",
    "    * Not easily\n",
    "        * **Scalable:** Depends on the specific structure of HTML so diff program for each individual page\n",
    "        * **Reliable:** Small changes to the code can break existing scrapers, constant maintenance is required\n",
    "\n",
    "* Obtain data from a non-downloadable package i.e **APIs (Application Programming Interface)**\n",
    "    * **APIs:** The 'bridges' pf the digital world\n",
    "        * Designed specifically for programmatical data exchange\n",
    "        * The workflow and all related are streamlined and easy to use\n",
    "        * They can provide data in many areas and formats. Ex: json, csv"
   ]
  }
 ],
 "metadata": {
  "kernelspec": {
   "display_name": "Python 3 (ipykernel)",
   "language": "python",
   "name": "python3"
  },
  "language_info": {
   "codemirror_mode": {
    "name": "ipython",
    "version": 3
   },
   "file_extension": ".py",
   "mimetype": "text/x-python",
   "name": "python",
   "nbconvert_exporter": "python",
   "pygments_lexer": "ipython3",
   "version": "3.9.12"
  }
 },
 "nbformat": 4,
 "nbformat_minor": 5
}
