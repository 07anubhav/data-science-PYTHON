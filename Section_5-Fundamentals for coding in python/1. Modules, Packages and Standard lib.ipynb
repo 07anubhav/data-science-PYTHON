{
 "cells": [
  {
   "cell_type": "markdown",
   "id": "b8fd87a2",
   "metadata": {},
   "source": [
    "## Modules"
   ]
  },
  {
   "cell_type": "markdown",
   "id": "39bacd95",
   "metadata": {},
   "source": [
    "* Pre-written code containing definations of variables, functions and classes\n",
    "* Can be loaded in all new programs\n",
    "* We use to 'import modules'"
   ]
  },
  {
   "cell_type": "markdown",
   "id": "867b9d75",
   "metadata": {},
   "source": [
    "## Packages"
   ]
  },
  {
   "cell_type": "markdown",
   "id": "c1184ad7",
   "metadata": {},
   "source": [
    "* A collection/ directory of related python modules\n",
    "* The community has developed a growing set of packages for various types of professions and specializations\n",
    "* Library = Packages"
   ]
  },
  {
   "cell_type": "markdown",
   "id": "3098444b",
   "metadata": {},
   "source": [
    "## Python Standard lib"
   ]
  },
  {
   "cell_type": "markdown",
   "id": "773e7cb5",
   "metadata": {},
   "source": [
    "* A collection of modules available as soon as you install python\n",
    "* Ex: len(), max(), min(), list()"
   ]
  },
  {
   "cell_type": "markdown",
   "id": "22e2799c",
   "metadata": {},
   "source": [
    "### Importing Modules"
   ]
  },
  {
   "cell_type": "code",
   "execution_count": 1,
   "id": "6ba47848",
   "metadata": {},
   "outputs": [],
   "source": [
    "import math"
   ]
  },
  {
   "cell_type": "code",
   "execution_count": 2,
   "id": "b7cdf185",
   "metadata": {},
   "outputs": [
    {
     "name": "stdout",
     "output_type": "stream",
     "text": [
      "3.7416573867739413\n"
     ]
    }
   ],
   "source": [
    "print(math.sqrt(14))"
   ]
  },
  {
   "cell_type": "code",
   "execution_count": 3,
   "id": "2b560813",
   "metadata": {},
   "outputs": [],
   "source": [
    "from math import sqrt"
   ]
  },
  {
   "cell_type": "code",
   "execution_count": 4,
   "id": "991d7318",
   "metadata": {},
   "outputs": [
    {
     "name": "stdout",
     "output_type": "stream",
     "text": [
      "4.0\n"
     ]
    }
   ],
   "source": [
    "print(sqrt(16))"
   ]
  },
  {
   "cell_type": "code",
   "execution_count": 6,
   "id": "67aa7dc1",
   "metadata": {},
   "outputs": [],
   "source": [
    "from math import sqrt as s\n",
    "import math as m"
   ]
  },
  {
   "cell_type": "code",
   "execution_count": 8,
   "id": "22fb9242",
   "metadata": {},
   "outputs": [
    {
     "name": "stdout",
     "output_type": "stream",
     "text": [
      "4.0\n"
     ]
    }
   ],
   "source": [
    "print(s(16))"
   ]
  },
  {
   "cell_type": "code",
   "execution_count": 9,
   "id": "543f4e7a",
   "metadata": {},
   "outputs": [
    {
     "name": "stdout",
     "output_type": "stream",
     "text": [
      "4.0\n"
     ]
    }
   ],
   "source": [
    "print(m.sqrt(16))"
   ]
  },
  {
   "cell_type": "code",
   "execution_count": 10,
   "id": "4a268154",
   "metadata": {},
   "outputs": [],
   "source": [
    "from math import *"
   ]
  },
  {
   "cell_type": "code",
   "execution_count": 11,
   "id": "7836ce12",
   "metadata": {},
   "outputs": [
    {
     "name": "stdout",
     "output_type": "stream",
     "text": [
      "Help on built-in function sqrt in module math:\n",
      "\n",
      "sqrt(x, /)\n",
      "    Return the square root of x.\n",
      "\n"
     ]
    }
   ],
   "source": [
    "help(sqrt)"
   ]
  },
  {
   "cell_type": "code",
   "execution_count": null,
   "id": "c3ff1084",
   "metadata": {},
   "outputs": [],
   "source": []
  }
 ],
 "metadata": {
  "kernelspec": {
   "display_name": "Python 3 (ipykernel)",
   "language": "python",
   "name": "python3"
  },
  "language_info": {
   "codemirror_mode": {
    "name": "ipython",
    "version": 3
   },
   "file_extension": ".py",
   "mimetype": "text/x-python",
   "name": "python",
   "nbconvert_exporter": "python",
   "pygments_lexer": "ipython3",
   "version": "3.9.12"
  }
 },
 "nbformat": 4,
 "nbformat_minor": 5
}
