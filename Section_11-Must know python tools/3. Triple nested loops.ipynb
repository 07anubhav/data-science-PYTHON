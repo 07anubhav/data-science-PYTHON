{
 "cells": [
  {
   "cell_type": "code",
   "execution_count": 3,
   "id": "ddaa1c29",
   "metadata": {},
   "outputs": [
    {
     "name": "stdout",
     "output_type": "stream",
     "text": [
      "[0, 0, 0]\n",
      "[0, 0, 1]\n",
      "[0, 1, 0]\n",
      "[0, 1, 1]\n",
      "[1, 0, 0]\n",
      "[1, 0, 1]\n",
      "[1, 1, 0]\n",
      "[1, 1, 1]\n"
     ]
    }
   ],
   "source": [
    "for i in range(2):\n",
    "    for j in range(2):\n",
    "        for k in range(2):\n",
    "            print([i,j,k], end=\"\\n\")"
   ]
  },
  {
   "cell_type": "code",
   "execution_count": 4,
   "id": "5c9f9981",
   "metadata": {},
   "outputs": [],
   "source": [
    "products = ['Product A','Product B']\n",
    "exp_sales = [10000,11000,12000,14000,13000]\n",
    "time_horizon = (1,3,12)"
   ]
  },
  {
   "cell_type": "code",
   "execution_count": 5,
   "id": "c1da2b32",
   "metadata": {},
   "outputs": [
    {
     "name": "stdout",
     "output_type": "stream",
     "text": [
      "['Product A', 10000, 1]\n",
      "['Product A', 10000, 3]\n",
      "['Product A', 10000, 12]\n",
      "['Product A', 11000, 1]\n",
      "['Product A', 11000, 3]\n",
      "['Product A', 11000, 12]\n",
      "['Product A', 12000, 1]\n",
      "['Product A', 12000, 3]\n",
      "['Product A', 12000, 12]\n",
      "['Product A', 14000, 1]\n",
      "['Product A', 14000, 3]\n",
      "['Product A', 14000, 12]\n",
      "['Product A', 13000, 1]\n",
      "['Product A', 13000, 3]\n",
      "['Product A', 13000, 12]\n",
      "['Product B', 10000, 1]\n",
      "['Product B', 10000, 3]\n",
      "['Product B', 10000, 12]\n",
      "['Product B', 11000, 1]\n",
      "['Product B', 11000, 3]\n",
      "['Product B', 11000, 12]\n",
      "['Product B', 12000, 1]\n",
      "['Product B', 12000, 3]\n",
      "['Product B', 12000, 12]\n",
      "['Product B', 14000, 1]\n",
      "['Product B', 14000, 3]\n",
      "['Product B', 14000, 12]\n",
      "['Product B', 13000, 1]\n",
      "['Product B', 13000, 3]\n",
      "['Product B', 13000, 12]\n"
     ]
    }
   ],
   "source": [
    "for i in products:\n",
    "    for j in exp_sales:\n",
    "        for k in time_horizon:\n",
    "            print([i,j,k])"
   ]
  },
  {
   "cell_type": "code",
   "execution_count": 7,
   "id": "b05ed693",
   "metadata": {},
   "outputs": [
    {
     "name": "stdout",
     "output_type": "stream",
     "text": [
      "['Product A', 10000, 1]\n",
      "['Product A', 30000, 3]\n",
      "['Product A', 120000, 12]\n",
      "['Product A', 11000, 1]\n",
      "['Product A', 33000, 3]\n",
      "['Product A', 132000, 12]\n",
      "['Product A', 12000, 1]\n",
      "['Product A', 36000, 3]\n",
      "['Product A', 144000, 12]\n",
      "['Product A', 14000, 1]\n",
      "['Product A', 42000, 3]\n",
      "['Product A', 168000, 12]\n",
      "['Product A', 13000, 1]\n",
      "['Product A', 39000, 3]\n",
      "['Product A', 156000, 12]\n",
      "['Product B', 10000, 1]\n",
      "['Product B', 30000, 3]\n",
      "['Product B', 120000, 12]\n",
      "['Product B', 11000, 1]\n",
      "['Product B', 33000, 3]\n",
      "['Product B', 132000, 12]\n",
      "['Product B', 12000, 1]\n",
      "['Product B', 36000, 3]\n",
      "['Product B', 144000, 12]\n",
      "['Product B', 14000, 1]\n",
      "['Product B', 42000, 3]\n",
      "['Product B', 168000, 12]\n",
      "['Product B', 13000, 1]\n",
      "['Product B', 39000, 3]\n",
      "['Product B', 156000, 12]\n"
     ]
    }
   ],
   "source": [
    "for i in products:\n",
    "    for j in exp_sales:\n",
    "        for k in time_horizon:\n",
    "            print([i,j*k,k])"
   ]
  },
  {
   "cell_type": "code",
   "execution_count": 8,
   "id": "4a49379f",
   "metadata": {},
   "outputs": [
    {
     "name": "stdout",
     "output_type": "stream",
     "text": [
      "Expected sales for a period of 1 month(s) for Product A: $10000\n",
      "Expected sales for a period of 3 month(s) for Product A: $30000\n",
      "Expected sales for a period of 12 month(s) for Product A: $120000\n",
      "Expected sales for a period of 1 month(s) for Product A: $11000\n",
      "Expected sales for a period of 3 month(s) for Product A: $33000\n",
      "Expected sales for a period of 12 month(s) for Product A: $132000\n",
      "Expected sales for a period of 1 month(s) for Product A: $12000\n",
      "Expected sales for a period of 3 month(s) for Product A: $36000\n",
      "Expected sales for a period of 12 month(s) for Product A: $144000\n",
      "Expected sales for a period of 1 month(s) for Product A: $14000\n",
      "Expected sales for a period of 3 month(s) for Product A: $42000\n",
      "Expected sales for a period of 12 month(s) for Product A: $168000\n",
      "Expected sales for a period of 1 month(s) for Product A: $13000\n",
      "Expected sales for a period of 3 month(s) for Product A: $39000\n",
      "Expected sales for a period of 12 month(s) for Product A: $156000\n",
      "Expected sales for a period of 1 month(s) for Product B: $10000\n",
      "Expected sales for a period of 3 month(s) for Product B: $30000\n",
      "Expected sales for a period of 12 month(s) for Product B: $120000\n",
      "Expected sales for a period of 1 month(s) for Product B: $11000\n",
      "Expected sales for a period of 3 month(s) for Product B: $33000\n",
      "Expected sales for a period of 12 month(s) for Product B: $132000\n",
      "Expected sales for a period of 1 month(s) for Product B: $12000\n",
      "Expected sales for a period of 3 month(s) for Product B: $36000\n",
      "Expected sales for a period of 12 month(s) for Product B: $144000\n",
      "Expected sales for a period of 1 month(s) for Product B: $14000\n",
      "Expected sales for a period of 3 month(s) for Product B: $42000\n",
      "Expected sales for a period of 12 month(s) for Product B: $168000\n",
      "Expected sales for a period of 1 month(s) for Product B: $13000\n",
      "Expected sales for a period of 3 month(s) for Product B: $39000\n",
      "Expected sales for a period of 12 month(s) for Product B: $156000\n"
     ]
    }
   ],
   "source": [
    "for prod in products:\n",
    "    for sale in exp_sales:\n",
    "        for t_hor in time_horizon:\n",
    "            print('Expected sales for a period of {0} month(s) for {1}: ${sales}'.format(t_hor,prod,sales=sale*t_hor))"
   ]
  },
  {
   "cell_type": "code",
   "execution_count": 9,
   "id": "c783caa2",
   "metadata": {},
   "outputs": [
    {
     "name": "stdout",
     "output_type": "stream",
     "text": [
      "Expected sales for a period of 1 month(s) for Product A: $10000\n",
      "Expected sales for a period of 1 month(s) for Product A: $11000\n",
      "Expected sales for a period of 1 month(s) for Product A: $12000\n",
      "Expected sales for a period of 1 month(s) for Product A: $14000\n",
      "Expected sales for a period of 1 month(s) for Product A: $13000\n",
      "Expected sales for a period of 3 month(s) for Product A: $30000\n",
      "Expected sales for a period of 3 month(s) for Product A: $33000\n",
      "Expected sales for a period of 3 month(s) for Product A: $36000\n",
      "Expected sales for a period of 3 month(s) for Product A: $42000\n",
      "Expected sales for a period of 3 month(s) for Product A: $39000\n",
      "Expected sales for a period of 12 month(s) for Product A: $120000\n",
      "Expected sales for a period of 12 month(s) for Product A: $132000\n",
      "Expected sales for a period of 12 month(s) for Product A: $144000\n",
      "Expected sales for a period of 12 month(s) for Product A: $168000\n",
      "Expected sales for a period of 12 month(s) for Product A: $156000\n",
      "Expected sales for a period of 1 month(s) for Product B: $10000\n",
      "Expected sales for a period of 1 month(s) for Product B: $11000\n",
      "Expected sales for a period of 1 month(s) for Product B: $12000\n",
      "Expected sales for a period of 1 month(s) for Product B: $14000\n",
      "Expected sales for a period of 1 month(s) for Product B: $13000\n",
      "Expected sales for a period of 3 month(s) for Product B: $30000\n",
      "Expected sales for a period of 3 month(s) for Product B: $33000\n",
      "Expected sales for a period of 3 month(s) for Product B: $36000\n",
      "Expected sales for a period of 3 month(s) for Product B: $42000\n",
      "Expected sales for a period of 3 month(s) for Product B: $39000\n",
      "Expected sales for a period of 12 month(s) for Product B: $120000\n",
      "Expected sales for a period of 12 month(s) for Product B: $132000\n",
      "Expected sales for a period of 12 month(s) for Product B: $144000\n",
      "Expected sales for a period of 12 month(s) for Product B: $168000\n",
      "Expected sales for a period of 12 month(s) for Product B: $156000\n"
     ]
    }
   ],
   "source": [
    "for prod in products:\n",
    "    for t_hor in time_horizon:\n",
    "        for sale in exp_sales:\n",
    "            print('Expected sales for a period of {0} month(s) for {1}: ${sales}'.format(t_hor,prod,sales=sale*t_hor))"
   ]
  }
 ],
 "metadata": {
  "kernelspec": {
   "display_name": "Python 3 (ipykernel)",
   "language": "python",
   "name": "python3"
  },
  "language_info": {
   "codemirror_mode": {
    "name": "ipython",
    "version": 3
   },
   "file_extension": ".py",
   "mimetype": "text/x-python",
   "name": "python",
   "nbconvert_exporter": "python",
   "pygments_lexer": "ipython3",
   "version": "3.9.12"
  }
 },
 "nbformat": 4,
 "nbformat_minor": 5
}
