{
 "cells": [
  {
   "cell_type": "markdown",
   "id": "1e614da6",
   "metadata": {},
   "source": [
    "## Lambda Expression\n",
    "* can have 1 or more parameters but can contain a single expression only\n",
    "* allow you to write just one line of code to include a simple fucntionality in a more complex expression\n",
    "* can only be applied to the larger expression they have written in"
   ]
  },
  {
   "cell_type": "code",
   "execution_count": 1,
   "id": "38332f91",
   "metadata": {},
   "outputs": [],
   "source": [
    "def raise_to_the_power_of_2(x):\n",
    "    return x**2"
   ]
  },
  {
   "cell_type": "code",
   "execution_count": 2,
   "id": "ddae934e",
   "metadata": {},
   "outputs": [
    {
     "data": {
      "text/plain": [
       "25"
      ]
     },
     "execution_count": 2,
     "metadata": {},
     "output_type": "execute_result"
    }
   ],
   "source": [
    "raise_to_the_power_of_2(5)"
   ]
  },
  {
   "cell_type": "code",
   "execution_count": 3,
   "id": "4db9cd6c",
   "metadata": {},
   "outputs": [
    {
     "data": {
      "text/plain": [
       "<function __main__.<lambda>(x)>"
      ]
     },
     "execution_count": 3,
     "metadata": {},
     "output_type": "execute_result"
    }
   ],
   "source": [
    "lambda x: x**2"
   ]
  },
  {
   "cell_type": "code",
   "execution_count": 4,
   "id": "505957dd",
   "metadata": {},
   "outputs": [
    {
     "data": {
      "text/plain": [
       "9"
      ]
     },
     "execution_count": 4,
     "metadata": {},
     "output_type": "execute_result"
    }
   ],
   "source": [
    "raise_to_the_power_of_2_lambda = lambda x: x**2\n",
    "raise_to_the_power_of_2_lambda(3)"
   ]
  },
  {
   "cell_type": "code",
   "execution_count": 5,
   "id": "1fcefa6c",
   "metadata": {},
   "outputs": [
    {
     "data": {
      "text/plain": [
       "5.5"
      ]
     },
     "execution_count": 5,
     "metadata": {},
     "output_type": "execute_result"
    }
   ],
   "source": [
    "(lambda x: x/2)(11)"
   ]
  },
  {
   "cell_type": "code",
   "execution_count": 7,
   "id": "d8372930",
   "metadata": {},
   "outputs": [
    {
     "data": {
      "text/plain": [
       "53.792"
      ]
     },
     "execution_count": 7,
     "metadata": {},
     "output_type": "execute_result"
    }
   ],
   "source": [
    "(lambda x: (2+5*x**4)**2/(x+3)**3)(2)"
   ]
  },
  {
   "cell_type": "code",
   "execution_count": 8,
   "id": "baebf931",
   "metadata": {},
   "outputs": [
    {
     "data": {
      "text/plain": [
       "5"
      ]
     },
     "execution_count": 8,
     "metadata": {},
     "output_type": "execute_result"
    }
   ],
   "source": [
    "sum_xy = lambda x,y: x+y\n",
    "sum_xy(2,3)"
   ]
  },
  {
   "cell_type": "markdown",
   "id": "459e0251",
   "metadata": {},
   "source": [
    "### Adding function as an argument"
   ]
  },
  {
   "cell_type": "code",
   "execution_count": 9,
   "id": "c7fd7854",
   "metadata": {},
   "outputs": [],
   "source": [
    "# 'y' act as an function\n",
    "sum_xy = lambda x,y: x+y(x)"
   ]
  },
  {
   "cell_type": "code",
   "execution_count": 10,
   "id": "bbe6f2fe",
   "metadata": {},
   "outputs": [
    {
     "ename": "TypeError",
     "evalue": "'int' object is not callable",
     "output_type": "error",
     "traceback": [
      "\u001b[1;31m---------------------------------------------------------------------------\u001b[0m",
      "\u001b[1;31mTypeError\u001b[0m                                 Traceback (most recent call last)",
      "Input \u001b[1;32mIn [10]\u001b[0m, in \u001b[0;36m<cell line: 1>\u001b[1;34m()\u001b[0m\n\u001b[1;32m----> 1\u001b[0m \u001b[43msum_xy\u001b[49m\u001b[43m(\u001b[49m\u001b[38;5;241;43m2\u001b[39;49m\u001b[43m,\u001b[49m\u001b[38;5;241;43m3\u001b[39;49m\u001b[43m)\u001b[49m\n",
      "Input \u001b[1;32mIn [9]\u001b[0m, in \u001b[0;36m<lambda>\u001b[1;34m(x, y)\u001b[0m\n\u001b[1;32m----> 1\u001b[0m sum_xy \u001b[38;5;241m=\u001b[39m \u001b[38;5;28;01mlambda\u001b[39;00m x,y: x\u001b[38;5;241m+\u001b[39m\u001b[43my\u001b[49m\u001b[43m(\u001b[49m\u001b[43mx\u001b[49m\u001b[43m)\u001b[49m\n",
      "\u001b[1;31mTypeError\u001b[0m: 'int' object is not callable"
     ]
    }
   ],
   "source": [
    "sum_xy(2,3)"
   ]
  },
  {
   "cell_type": "code",
   "execution_count": 11,
   "id": "9eda3846",
   "metadata": {},
   "outputs": [
    {
     "ename": "TypeError",
     "evalue": "<lambda>() missing 1 required positional argument: 'y'",
     "output_type": "error",
     "traceback": [
      "\u001b[1;31m---------------------------------------------------------------------------\u001b[0m",
      "\u001b[1;31mTypeError\u001b[0m                                 Traceback (most recent call last)",
      "Input \u001b[1;32mIn [11]\u001b[0m, in \u001b[0;36m<cell line: 1>\u001b[1;34m()\u001b[0m\n\u001b[1;32m----> 1\u001b[0m \u001b[43msum_xy\u001b[49m\u001b[43m(\u001b[49m\u001b[38;5;241;43m2\u001b[39;49m\u001b[43m)\u001b[49m\n",
      "\u001b[1;31mTypeError\u001b[0m: <lambda>() missing 1 required positional argument: 'y'"
     ]
    }
   ],
   "source": [
    "sum_xy(2)"
   ]
  },
  {
   "cell_type": "code",
   "execution_count": 13,
   "id": "78c81eb0",
   "metadata": {},
   "outputs": [
    {
     "data": {
      "text/plain": [
       "12"
      ]
     },
     "execution_count": 13,
     "metadata": {},
     "output_type": "execute_result"
    }
   ],
   "source": [
    "sum_xy(2, lambda x: x*5)"
   ]
  }
 ],
 "metadata": {
  "kernelspec": {
   "display_name": "Python 3 (ipykernel)",
   "language": "python",
   "name": "python3"
  },
  "language_info": {
   "codemirror_mode": {
    "name": "ipython",
    "version": 3
   },
   "file_extension": ".py",
   "mimetype": "text/x-python",
   "name": "python",
   "nbconvert_exporter": "python",
   "pygments_lexer": "ipython3",
   "version": "3.9.12"
  }
 },
 "nbformat": 4,
 "nbformat_minor": 5
}
