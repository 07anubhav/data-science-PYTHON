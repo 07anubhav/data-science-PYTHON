{
 "cells": [
  {
   "cell_type": "code",
   "execution_count": 1,
   "id": "7944d97f",
   "metadata": {},
   "outputs": [],
   "source": [
    "import requests\n",
    "import json"
   ]
  },
  {
   "cell_type": "code",
   "execution_count": 3,
   "id": "fc77929e",
   "metadata": {},
   "outputs": [
    {
     "name": "stdout",
     "output_type": "stream",
     "text": [
      "Please enter the date (in format \"yyyy-mm-dd\"):2009-07-03\n",
      "convert from (currency):GBP\n",
      "convert to (currency):USD\n",
      "How much GBP do you want to convert23\n",
      "\n",
      "Error: 400\n",
      "{'code': 'base_currency_access_restricted', 'message': 'An unexpected error ocurred. [Technical Support: support@apilayer.com]'}\n"
     ]
    }
   ],
   "source": [
    "date = input('Please enter the date (in format \"yyyy-mm-dd\"):')\n",
    "base = input('convert from (currency):')\n",
    "curr = input('convert to (currency):')\n",
    "quan = float(input('How much {} do you want to convert'.format(base)))\n",
    "\n",
    "base_url = 'http://api.exchangeratesapi.io/v1/'\n",
    "access_key = '?access_key=be7fbb798b129b575459462dd7a10ae4'\n",
    "\n",
    "url = base_url + date + access_key +\"&base=\" + base + \"&symbols=\" + curr\n",
    "response = requests.get(url)\n",
    "\n",
    "if(response.ok is False):\n",
    "    print('\\nError: {}'.format(response.status_code))\n",
    "    print(response.json()['error'])\n",
    "else:\n",
    "    data = response.json()\n",
    "    rate = data['rates'][curr]\n",
    "    \n",
    "    result = quan*rate\n",
    "    \n",
    "    print('\\n{} {} is equal to {} {}, based upon exchange rates on {}'.format(quan,base,result,curr,data['date']))"
   ]
  },
  {
   "cell_type": "code",
   "execution_count": null,
   "id": "c87eb1f7",
   "metadata": {},
   "outputs": [],
   "source": []
  }
 ],
 "metadata": {
  "kernelspec": {
   "display_name": "Python 3 (ipykernel)",
   "language": "python",
   "name": "python3"
  },
  "language_info": {
   "codemirror_mode": {
    "name": "ipython",
    "version": 3
   },
   "file_extension": ".py",
   "mimetype": "text/x-python",
   "name": "python",
   "nbconvert_exporter": "python",
   "pygments_lexer": "ipython3",
   "version": "3.9.12"
  }
 },
 "nbformat": 4,
 "nbformat_minor": 5
}
