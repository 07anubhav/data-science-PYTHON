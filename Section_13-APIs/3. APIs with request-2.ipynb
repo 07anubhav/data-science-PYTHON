{
 "cells": [
  {
   "cell_type": "code",
   "execution_count": 1,
   "id": "fa7beaa0",
   "metadata": {},
   "outputs": [],
   "source": [
    "import json\n",
    "import requests"
   ]
  },
  {
   "cell_type": "markdown",
   "id": "fba45d42",
   "metadata": {},
   "source": [
    "### Incorporating parameters in the GET request\n",
    "### Example-1"
   ]
  },
  {
   "cell_type": "code",
   "execution_count": 15,
   "id": "e7416ba0",
   "metadata": {},
   "outputs": [
    {
     "data": {
      "text/plain": [
       "'http://api.exchangeratesapi.io/v1/latest?access_key=be7fbb798b129b575459462dd7a10ae4&symbols=USD,GBP'"
      ]
     },
     "execution_count": 15,
     "metadata": {},
     "output_type": "execute_result"
    }
   ],
   "source": [
    "base_url = 'http://api.exchangeratesapi.io/v1/latest?access_key=be7fbb798b129b575459462dd7a10ae4'\n",
    "parm_url = base_url + '&symbols=USD,GBP'\n",
    "parm_url"
   ]
  },
  {
   "cell_type": "code",
   "execution_count": 16,
   "id": "d6b680d9",
   "metadata": {},
   "outputs": [
    {
     "data": {
      "text/plain": [
       "<Response [200]>"
      ]
     },
     "execution_count": 16,
     "metadata": {},
     "output_type": "execute_result"
    }
   ],
   "source": [
    "response = requests.get(parm_url)\n",
    "response"
   ]
  },
  {
   "cell_type": "code",
   "execution_count": 17,
   "id": "f963ba62",
   "metadata": {},
   "outputs": [],
   "source": [
    "data = response.json()"
   ]
  },
  {
   "cell_type": "code",
   "execution_count": 18,
   "id": "04c85c1f",
   "metadata": {},
   "outputs": [
    {
     "data": {
      "text/plain": [
       "{'success': True,\n",
       " 'timestamp': 1687966743,\n",
       " 'base': 'EUR',\n",
       " 'date': '2023-06-28',\n",
       " 'rates': {'USD': 1.09119, 'GBP': 0.863388}}"
      ]
     },
     "execution_count": 18,
     "metadata": {},
     "output_type": "execute_result"
    }
   ],
   "source": [
    "data"
   ]
  },
  {
   "cell_type": "code",
   "execution_count": 6,
   "id": "7502f35d",
   "metadata": {},
   "outputs": [
    {
     "data": {
      "text/plain": [
       "{'USD': 1.091357, 'GBP': 0.86358}"
      ]
     },
     "execution_count": 6,
     "metadata": {},
     "output_type": "execute_result"
    }
   ],
   "source": [
    "data['rates']"
   ]
  },
  {
   "cell_type": "code",
   "execution_count": 7,
   "id": "c8a19c9d",
   "metadata": {},
   "outputs": [
    {
     "data": {
      "text/plain": [
       "'EUR'"
      ]
     },
     "execution_count": 7,
     "metadata": {},
     "output_type": "execute_result"
    }
   ],
   "source": [
    "data['base']"
   ]
  },
  {
   "cell_type": "code",
   "execution_count": 8,
   "id": "4dac4830",
   "metadata": {},
   "outputs": [
    {
     "data": {
      "text/plain": [
       "dict"
      ]
     },
     "execution_count": 8,
     "metadata": {},
     "output_type": "execute_result"
    }
   ],
   "source": [
    "type(data)"
   ]
  },
  {
   "cell_type": "markdown",
   "id": "bcf23361",
   "metadata": {},
   "source": [
    "### Example-2"
   ]
  },
  {
   "cell_type": "code",
   "execution_count": 75,
   "id": "5e3a1aa4",
   "metadata": {},
   "outputs": [
    {
     "data": {
      "text/plain": [
       "'http://api.exchangeratesapi.io/v1/latest?access_key=be7fbb798b129b575459462dd7a10ae4&base=GBP&symbols=USD'"
      ]
     },
     "execution_count": 75,
     "metadata": {},
     "output_type": "execute_result"
    }
   ],
   "source": [
    "base_url = 'http://api.exchangeratesapi.io/v1/latest'\n",
    "access_key = '?access_key=be7fbb798b129b575459462dd7a10ae4'\n",
    "\n",
    "parm_url = base_url + access_key + \"&base=GBP\" + \"&symbols=USD\"\n",
    "parm_url"
   ]
  },
  {
   "cell_type": "code",
   "execution_count": 76,
   "id": "fef3756c",
   "metadata": {},
   "outputs": [
    {
     "data": {
      "text/plain": [
       "{'error': {'code': 'base_currency_access_restricted',\n",
       "  'message': 'An unexpected error ocurred. [Technical Support: support@apilayer.com]'}}"
      ]
     },
     "execution_count": 76,
     "metadata": {},
     "output_type": "execute_result"
    }
   ],
   "source": [
    "data = requests.get(parm_url).json()\n",
    "data"
   ]
  },
  {
   "cell_type": "code",
   "execution_count": 28,
   "id": "af3e6326",
   "metadata": {},
   "outputs": [
    {
     "ename": "KeyError",
     "evalue": "'rates'",
     "output_type": "error",
     "traceback": [
      "\u001b[1;31m---------------------------------------------------------------------------\u001b[0m",
      "\u001b[1;31mKeyError\u001b[0m                                  Traceback (most recent call last)",
      "Input \u001b[1;32mIn [28]\u001b[0m, in \u001b[0;36m<cell line: 1>\u001b[1;34m()\u001b[0m\n\u001b[1;32m----> 1\u001b[0m eur_to_gbp \u001b[38;5;241m=\u001b[39m \u001b[43mdata\u001b[49m\u001b[43m[\u001b[49m\u001b[38;5;124;43m'\u001b[39;49m\u001b[38;5;124;43mrates\u001b[39;49m\u001b[38;5;124;43m'\u001b[39;49m\u001b[43m]\u001b[49m[\u001b[38;5;124m'\u001b[39m\u001b[38;5;124mGBP\u001b[39m\u001b[38;5;124m'\u001b[39m]\n\u001b[0;32m      2\u001b[0m eur_to_gbp\n",
      "\u001b[1;31mKeyError\u001b[0m: 'rates'"
     ]
    }
   ],
   "source": [
    "eur_to_gbp = data['rates']['USD']\n",
    "eur_to_gbp"
   ]
  },
  {
   "cell_type": "markdown",
   "id": "75d03009",
   "metadata": {},
   "source": [
    "## More Functionalities\n",
    "### Obtaining Historical Exchange rates"
   ]
  },
  {
   "cell_type": "code",
   "execution_count": 77,
   "id": "73ade256",
   "metadata": {},
   "outputs": [
    {
     "data": {
      "text/plain": [
       "'http://api.exchangeratesapi.io/v1/2020-11-26?access_key=be7fbb798b129b575459462dd7a10ae4'"
      ]
     },
     "execution_count": 77,
     "metadata": {},
     "output_type": "execute_result"
    }
   ],
   "source": [
    "base_url = 'http://api.exchangeratesapi.io/v1/'\n",
    "date = '2020-11-26'\n",
    "access_key = '?access_key=be7fbb798b129b575459462dd7a10ae4'\n",
    "\n",
    "historical_url = base_url + date + access_key\n",
    "historical_url"
   ]
  },
  {
   "cell_type": "code",
   "execution_count": 78,
   "id": "1f9d82aa",
   "metadata": {},
   "outputs": [
    {
     "data": {
      "text/plain": [
       "{'success': True,\n",
       " 'timestamp': 1606435199,\n",
       " 'historical': True,\n",
       " 'base': 'EUR',\n",
       " 'date': '2020-11-26',\n",
       " 'rates': {'AED': 4.376311,\n",
       "  'AFN': 91.66155,\n",
       "  'ALL': 123.986321,\n",
       "  'AMD': 605.399378,\n",
       "  'ANG': 2.138852,\n",
       "  'AOA': 770.057698,\n",
       "  'ARS': 96.362811,\n",
       "  'AUD': 1.619808,\n",
       "  'AWG': 2.14461,\n",
       "  'AZN': 2.024974,\n",
       "  'BAM': 1.957983,\n",
       "  'BBD': 2.405945,\n",
       "  'BDT': 101.040492,\n",
       "  'BGN': 1.956324,\n",
       "  'BHD': 0.449251,\n",
       "  'BIF': 2308.798489,\n",
       "  'BMD': 1.19145,\n",
       "  'BND': 1.59478,\n",
       "  'BOB': 8.216033,\n",
       "  'BRL': 6.358532,\n",
       "  'BSD': 1.19161,\n",
       "  'BTC': 6.9396353e-05,\n",
       "  'BTN': 87.982851,\n",
       "  'BWP': 13.144953,\n",
       "  'BYN': 3.060965,\n",
       "  'BYR': 23352.41963,\n",
       "  'BZD': 2.401841,\n",
       "  'CAD': 1.551417,\n",
       "  'CDF': 2347.156749,\n",
       "  'CHF': 1.080014,\n",
       "  'CLF': 0.033088,\n",
       "  'CLP': 912.983399,\n",
       "  'CNY': 7.834498,\n",
       "  'COP': 4310.308597,\n",
       "  'CRC': 715.997228,\n",
       "  'CUC': 1.19145,\n",
       "  'CUP': 31.573424,\n",
       "  'CVE': 110.386368,\n",
       "  'CZK': 26.157209,\n",
       "  'DJF': 211.744432,\n",
       "  'DKK': 7.445492,\n",
       "  'DOP': 69.31421,\n",
       "  'DZD': 153.023917,\n",
       "  'EGP': 18.632733,\n",
       "  'ERN': 17.87197,\n",
       "  'ETB': 45.542874,\n",
       "  'EUR': 1,\n",
       "  'FJD': 2.481731,\n",
       "  'FKP': 0.892247,\n",
       "  'GBP': 0.892229,\n",
       "  'GEL': 3.943877,\n",
       "  'GGP': 0.892247,\n",
       "  'GHS': 6.976771,\n",
       "  'GIP': 0.892247,\n",
       "  'GMD': 61.711759,\n",
       "  'GNF': 11714.479892,\n",
       "  'GTQ': 9.291416,\n",
       "  'GYD': 249.474293,\n",
       "  'HKD': 9.23487,\n",
       "  'HNL': 28.906783,\n",
       "  'HRK': 7.558321,\n",
       "  'HTG': 78.585403,\n",
       "  'HUF': 360.950938,\n",
       "  'IDR': 16788.591888,\n",
       "  'ILS': 3.958294,\n",
       "  'IMP': 0.892247,\n",
       "  'INR': 88.124286,\n",
       "  'IQD': 1422.524044,\n",
       "  'IRR': 50166.001785,\n",
       "  'ISK': 160.547645,\n",
       "  'JEP': 0.892247,\n",
       "  'JMD': 175.430884,\n",
       "  'JOD': 0.844853,\n",
       "  'JPY': 124.205102,\n",
       "  'KES': 130.943959,\n",
       "  'KGS': 101.033766,\n",
       "  'KHR': 4842.105102,\n",
       "  'KMF': 492.813509,\n",
       "  'KPW': 1072.347227,\n",
       "  'KRW': 1318.411207,\n",
       "  'KWD': 0.363871,\n",
       "  'KYD': 0.992892,\n",
       "  'KZT': 504.564761,\n",
       "  'LAK': 11052.230047,\n",
       "  'LBP': 1801.680921,\n",
       "  'LKR': 220.562405,\n",
       "  'LRD': 187.356102,\n",
       "  'LSL': 18.205282,\n",
       "  'LTL': 3.518042,\n",
       "  'LVL': 0.720696,\n",
       "  'LYD': 1.612072,\n",
       "  'MAD': 10.838216,\n",
       "  'MDL': 20.51906,\n",
       "  'MGA': 4657.911303,\n",
       "  'MKD': 61.635174,\n",
       "  'MMK': 1566.961053,\n",
       "  'MNT': 3378.181003,\n",
       "  'MOP': 9.51356,\n",
       "  'MRO': 425.348256,\n",
       "  'MUR': 47.475938,\n",
       "  'MVR': 18.360676,\n",
       "  'MWK': 903.579472,\n",
       "  'MXN': 23.88154,\n",
       "  'MYR': 4.846219,\n",
       "  'MZN': 88.322283,\n",
       "  'NAD': 18.205633,\n",
       "  'NGN': 454.169447,\n",
       "  'NIO': 41.526658,\n",
       "  'NOK': 10.58489,\n",
       "  'NPR': 140.768773,\n",
       "  'NZD': 1.701468,\n",
       "  'OMR': 0.45872,\n",
       "  'PAB': 1.19151,\n",
       "  'PEN': 4.294522,\n",
       "  'PGK': 4.193045,\n",
       "  'PHP': 57.320243,\n",
       "  'PKR': 189.67054,\n",
       "  'PLN': 4.47741,\n",
       "  'PYG': 8398.834391,\n",
       "  'QAR': 4.338368,\n",
       "  'RON': 4.87446,\n",
       "  'RSD': 117.613964,\n",
       "  'RUB': 90.174771,\n",
       "  'RWF': 1178.125331,\n",
       "  'SAR': 4.468384,\n",
       "  'SBD': 9.556989,\n",
       "  'SCR': 24.792242,\n",
       "  'SDG': 65.916972,\n",
       "  'SEK': 10.159148,\n",
       "  'SGD': 1.595018,\n",
       "  'SHP': 0.892247,\n",
       "  'SLL': 12015.772631,\n",
       "  'SOS': 694.615379,\n",
       "  'SRD': 16.863797,\n",
       "  'STD': 25058.464026,\n",
       "  'SVC': 10.425463,\n",
       "  'SYP': 611.140931,\n",
       "  'SZL': 18.10851,\n",
       "  'THB': 36.098614,\n",
       "  'TJS': 13.49764,\n",
       "  'TMT': 4.181989,\n",
       "  'TND': 3.258017,\n",
       "  'TOP': 2.727765,\n",
       "  'TRY': 9.383739,\n",
       "  'TTD': 8.084289,\n",
       "  'TWD': 33.98575,\n",
       "  'TZS': 2763.288248,\n",
       "  'UAH': 33.891763,\n",
       "  'UGX': 4408.847461,\n",
       "  'USD': 1.19145,\n",
       "  'UYU': 50.802857,\n",
       "  'UZS': 12346.014255,\n",
       "  'VEF': 11.899602,\n",
       "  'VND': 27599.938813,\n",
       "  'VUV': 132.738539,\n",
       "  'WST': 3.046615,\n",
       "  'XAF': 656.684526,\n",
       "  'XAG': 0.051314,\n",
       "  'XAU': 0.000658,\n",
       "  'XCD': 3.219953,\n",
       "  'XDR': 0.836026,\n",
       "  'XOF': 656.679009,\n",
       "  'XPF': 119.91938,\n",
       "  'YER': 298.279226,\n",
       "  'ZAR': 18.153175,\n",
       "  'ZMK': 10724.473679,\n",
       "  'ZMW': 25.035226,\n",
       "  'ZWL': 383.646824}}"
      ]
     },
     "execution_count": 78,
     "metadata": {},
     "output_type": "execute_result"
    }
   ],
   "source": [
    "data = requests.get(historical_url).json()\n",
    "data"
   ]
  },
  {
   "cell_type": "code",
   "execution_count": 61,
   "id": "e7674d7d",
   "metadata": {},
   "outputs": [
    {
     "name": "stdout",
     "output_type": "stream",
     "text": [
      "{\n",
      "     \"success\": true,\n",
      "     \"timestamp\": 1606435199,\n",
      "     \"historical\": true,\n",
      "     \"base\": \"EUR\",\n",
      "     \"date\": \"2020-11-26\",\n",
      "     \"rates\": {\n",
      "          \"AED\": 4.376311,\n",
      "          \"AFN\": 91.66155,\n",
      "          \"ALL\": 123.986321,\n",
      "          \"AMD\": 605.399378,\n",
      "          \"ANG\": 2.138852,\n",
      "          \"AOA\": 770.057698,\n",
      "          \"ARS\": 96.362811,\n",
      "          \"AUD\": 1.619808,\n",
      "          \"AWG\": 2.14461,\n",
      "          \"AZN\": 2.024974,\n",
      "          \"BAM\": 1.957983,\n",
      "          \"BBD\": 2.405945,\n",
      "          \"BDT\": 101.040492,\n",
      "          \"BGN\": 1.956324,\n",
      "          \"BHD\": 0.449251,\n",
      "          \"BIF\": 2308.798489,\n",
      "          \"BMD\": 1.19145,\n",
      "          \"BND\": 1.59478,\n",
      "          \"BOB\": 8.216033,\n",
      "          \"BRL\": 6.358532,\n",
      "          \"BSD\": 1.19161,\n",
      "          \"BTC\": 6.9396353e-05,\n",
      "          \"BTN\": 87.982851,\n",
      "          \"BWP\": 13.144953,\n",
      "          \"BYN\": 3.060965,\n",
      "          \"BYR\": 23352.41963,\n",
      "          \"BZD\": 2.401841,\n",
      "          \"CAD\": 1.551417,\n",
      "          \"CDF\": 2347.156749,\n",
      "          \"CHF\": 1.080014,\n",
      "          \"CLF\": 0.033088,\n",
      "          \"CLP\": 912.983399,\n",
      "          \"CNY\": 7.834498,\n",
      "          \"COP\": 4310.308597,\n",
      "          \"CRC\": 715.997228,\n",
      "          \"CUC\": 1.19145,\n",
      "          \"CUP\": 31.573424,\n",
      "          \"CVE\": 110.386368,\n",
      "          \"CZK\": 26.157209,\n",
      "          \"DJF\": 211.744432,\n",
      "          \"DKK\": 7.445492,\n",
      "          \"DOP\": 69.31421,\n",
      "          \"DZD\": 153.023917,\n",
      "          \"EGP\": 18.632733,\n",
      "          \"ERN\": 17.87197,\n",
      "          \"ETB\": 45.542874,\n",
      "          \"EUR\": 1,\n",
      "          \"FJD\": 2.481731,\n",
      "          \"FKP\": 0.892247,\n",
      "          \"GBP\": 0.892229,\n",
      "          \"GEL\": 3.943877,\n",
      "          \"GGP\": 0.892247,\n",
      "          \"GHS\": 6.976771,\n",
      "          \"GIP\": 0.892247,\n",
      "          \"GMD\": 61.711759,\n",
      "          \"GNF\": 11714.479892,\n",
      "          \"GTQ\": 9.291416,\n",
      "          \"GYD\": 249.474293,\n",
      "          \"HKD\": 9.23487,\n",
      "          \"HNL\": 28.906783,\n",
      "          \"HRK\": 7.558321,\n",
      "          \"HTG\": 78.585403,\n",
      "          \"HUF\": 360.950938,\n",
      "          \"IDR\": 16788.591888,\n",
      "          \"ILS\": 3.958294,\n",
      "          \"IMP\": 0.892247,\n",
      "          \"INR\": 88.124286,\n",
      "          \"IQD\": 1422.524044,\n",
      "          \"IRR\": 50166.001785,\n",
      "          \"ISK\": 160.547645,\n",
      "          \"JEP\": 0.892247,\n",
      "          \"JMD\": 175.430884,\n",
      "          \"JOD\": 0.844853,\n",
      "          \"JPY\": 124.205102,\n",
      "          \"KES\": 130.943959,\n",
      "          \"KGS\": 101.033766,\n",
      "          \"KHR\": 4842.105102,\n",
      "          \"KMF\": 492.813509,\n",
      "          \"KPW\": 1072.347227,\n",
      "          \"KRW\": 1318.411207,\n",
      "          \"KWD\": 0.363871,\n",
      "          \"KYD\": 0.992892,\n",
      "          \"KZT\": 504.564761,\n",
      "          \"LAK\": 11052.230047,\n",
      "          \"LBP\": 1801.680921,\n",
      "          \"LKR\": 220.562405,\n",
      "          \"LRD\": 187.356102,\n",
      "          \"LSL\": 18.205282,\n",
      "          \"LTL\": 3.518042,\n",
      "          \"LVL\": 0.720696,\n",
      "          \"LYD\": 1.612072,\n",
      "          \"MAD\": 10.838216,\n",
      "          \"MDL\": 20.51906,\n",
      "          \"MGA\": 4657.911303,\n",
      "          \"MKD\": 61.635174,\n",
      "          \"MMK\": 1566.961053,\n",
      "          \"MNT\": 3378.181003,\n",
      "          \"MOP\": 9.51356,\n",
      "          \"MRO\": 425.348256,\n",
      "          \"MUR\": 47.475938,\n",
      "          \"MVR\": 18.360676,\n",
      "          \"MWK\": 903.579472,\n",
      "          \"MXN\": 23.88154,\n",
      "          \"MYR\": 4.846219,\n",
      "          \"MZN\": 88.322283,\n",
      "          \"NAD\": 18.205633,\n",
      "          \"NGN\": 454.169447,\n",
      "          \"NIO\": 41.526658,\n",
      "          \"NOK\": 10.58489,\n",
      "          \"NPR\": 140.768773,\n",
      "          \"NZD\": 1.701468,\n",
      "          \"OMR\": 0.45872,\n",
      "          \"PAB\": 1.19151,\n",
      "          \"PEN\": 4.294522,\n",
      "          \"PGK\": 4.193045,\n",
      "          \"PHP\": 57.320243,\n",
      "          \"PKR\": 189.67054,\n",
      "          \"PLN\": 4.47741,\n",
      "          \"PYG\": 8398.834391,\n",
      "          \"QAR\": 4.338368,\n",
      "          \"RON\": 4.87446,\n",
      "          \"RSD\": 117.613964,\n",
      "          \"RUB\": 90.174771,\n",
      "          \"RWF\": 1178.125331,\n",
      "          \"SAR\": 4.468384,\n",
      "          \"SBD\": 9.556989,\n",
      "          \"SCR\": 24.792242,\n",
      "          \"SDG\": 65.916972,\n",
      "          \"SEK\": 10.159148,\n",
      "          \"SGD\": 1.595018,\n",
      "          \"SHP\": 0.892247,\n",
      "          \"SLL\": 12015.772631,\n",
      "          \"SOS\": 694.615379,\n",
      "          \"SRD\": 16.863797,\n",
      "          \"STD\": 25058.464026,\n",
      "          \"SVC\": 10.425463,\n",
      "          \"SYP\": 611.140931,\n",
      "          \"SZL\": 18.10851,\n",
      "          \"THB\": 36.098614,\n",
      "          \"TJS\": 13.49764,\n",
      "          \"TMT\": 4.181989,\n",
      "          \"TND\": 3.258017,\n",
      "          \"TOP\": 2.727765,\n",
      "          \"TRY\": 9.383739,\n",
      "          \"TTD\": 8.084289,\n",
      "          \"TWD\": 33.98575,\n",
      "          \"TZS\": 2763.288248,\n",
      "          \"UAH\": 33.891763,\n",
      "          \"UGX\": 4408.847461,\n",
      "          \"USD\": 1.19145,\n",
      "          \"UYU\": 50.802857,\n",
      "          \"UZS\": 12346.014255,\n",
      "          \"VEF\": 11.899602,\n",
      "          \"VND\": 27599.938813,\n",
      "          \"VUV\": 132.738539,\n",
      "          \"WST\": 3.046615,\n",
      "          \"XAF\": 656.684526,\n",
      "          \"XAG\": 0.051314,\n",
      "          \"XAU\": 0.000658,\n",
      "          \"XCD\": 3.219953,\n",
      "          \"XDR\": 0.836026,\n",
      "          \"XOF\": 656.679009,\n",
      "          \"XPF\": 119.91938,\n",
      "          \"YER\": 298.279226,\n",
      "          \"ZAR\": 18.153175,\n",
      "          \"ZMK\": 10724.473679,\n",
      "          \"ZMW\": 25.035226,\n",
      "          \"ZWL\": 383.646824\n",
      "     }\n",
      "}\n"
     ]
    }
   ],
   "source": [
    "print(json.dumps(data,indent=5))"
   ]
  },
  {
   "cell_type": "markdown",
   "id": "633da31a",
   "metadata": {},
   "source": [
    "### Obtaining Data for a time period"
   ]
  },
  {
   "cell_type": "code",
   "execution_count": 84,
   "id": "17b1b814",
   "metadata": {},
   "outputs": [
    {
     "data": {
      "text/plain": [
       "'http://api.exchangeratesapi.io/v1/timeseries?access_key=be7fbb798b129b575459462dd7a10ae4&start_date=2017-04-26&end_date=2018-04-26'"
      ]
     },
     "execution_count": 84,
     "metadata": {},
     "output_type": "execute_result"
    }
   ],
   "source": [
    "base_url = 'http://api.exchangeratesapi.io/v1/'\n",
    "access_key = '?access_key=be7fbb798b129b575459462dd7a10ae4'\n",
    "time_period = '&start_date=2017-04-26&end_date=2018-04-26'\n",
    "\n",
    "parm_url = base_url + 'timeseries' + access_key + time_period\n",
    "parm_url"
   ]
  },
  {
   "cell_type": "code",
   "execution_count": 85,
   "id": "06822c00",
   "metadata": {},
   "outputs": [
    {
     "data": {
      "text/plain": [
       "{'error': {'code': 'function_access_restricted',\n",
       "  'message': 'Access Restricted - Your current Subscription Plan does not support this API Function.'}}"
      ]
     },
     "execution_count": 85,
     "metadata": {},
     "output_type": "execute_result"
    }
   ],
   "source": [
    "data = requests.get(parm_url).json()\n",
    "data"
   ]
  },
  {
   "cell_type": "code",
   "execution_count": 86,
   "id": "410c527f",
   "metadata": {},
   "outputs": [
    {
     "name": "stdout",
     "output_type": "stream",
     "text": [
      "{\n",
      "    \"error\": {\n",
      "        \"code\": \"function_access_restricted\",\n",
      "        \"message\": \"Access Restricted - Your current Subscription Plan does not support this API Function.\"\n",
      "    }\n",
      "}\n"
     ]
    }
   ],
   "source": [
    "print(json.dumps(data,indent=4,sort_keys=True))"
   ]
  },
  {
   "cell_type": "markdown",
   "id": "ea459000",
   "metadata": {},
   "source": [
    "### Testing the API response to incorrect input"
   ]
  },
  {
   "cell_type": "code",
   "execution_count": 94,
   "id": "90d9dc87",
   "metadata": {},
   "outputs": [
    {
     "data": {
      "text/plain": [
       "'http://api.exchangeratesapi.io/v1/2020-13-26?access_key=be7fbb798b129b575459462dd7a10ae4'"
      ]
     },
     "execution_count": 94,
     "metadata": {},
     "output_type": "execute_result"
    }
   ],
   "source": [
    "base_url = 'http://api.exchangeratesapi.io/v1/'\n",
    "date = '2020-13-26'\n",
    "access_key = '?access_key=be7fbb798b129b575459462dd7a10ae4'\n",
    "\n",
    "invalid_url = base_url + date + access_key\n",
    "invalid_url"
   ]
  },
  {
   "cell_type": "code",
   "execution_count": 95,
   "id": "668dae2c",
   "metadata": {},
   "outputs": [
    {
     "data": {
      "text/plain": [
       "{'error': {'code': 'invalid_date',\n",
       "  'message': 'You have entered an invalid date. [Required format: date=YYYY-MM-DD]'}}"
      ]
     },
     "execution_count": 95,
     "metadata": {},
     "output_type": "execute_result"
    }
   ],
   "source": [
    "data = requests.get(invalid_url).json()\n",
    "data"
   ]
  },
  {
   "cell_type": "code",
   "execution_count": 97,
   "id": "6da0ff16",
   "metadata": {},
   "outputs": [
    {
     "data": {
      "text/plain": [
       "400"
      ]
     },
     "execution_count": 97,
     "metadata": {},
     "output_type": "execute_result"
    }
   ],
   "source": [
    "requests.get(invalid_url).status_code"
   ]
  }
 ],
 "metadata": {
  "kernelspec": {
   "display_name": "Python 3 (ipykernel)",
   "language": "python",
   "name": "python3"
  },
  "language_info": {
   "codemirror_mode": {
    "name": "ipython",
    "version": 3
   },
   "file_extension": ".py",
   "mimetype": "text/x-python",
   "name": "python",
   "nbconvert_exporter": "python",
   "pygments_lexer": "ipython3",
   "version": "3.9.12"
  }
 },
 "nbformat": 4,
 "nbformat_minor": 5
}
