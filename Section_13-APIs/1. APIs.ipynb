{
 "cells": [
  {
   "cell_type": "markdown",
   "id": "e4da2f13",
   "metadata": {},
   "source": [
    "### API\n",
    "* Application Programming Interface\n",
    "* APIs is used to communicate between apps and to access and fetch the required information.\n",
    "* Ex: Currency exchange rates, Job boards, Weather forecast\n",
    "* https://www.javatpoint.com/api-application-programming-interface\n",
    "\n",
    "### HTTP\n",
    "* Specifies how requests and responses are to be formatted and transmitted\n",
    "* **GET:** obtain data from a server, can be bookmarked, parameters are added directly to the URL, not used for sensitive information\n",
    "* **POST:** alter state or send confidental information, parameters are added in a separate body. Ex: login credentials\n",
    "* **Responses:** To know whether our request was successful. Status code : 200 (successfull), 400 (Not found)"
   ]
  }
 ],
 "metadata": {
  "kernelspec": {
   "display_name": "Python 3 (ipykernel)",
   "language": "python",
   "name": "python3"
  },
  "language_info": {
   "codemirror_mode": {
    "name": "ipython",
    "version": 3
   },
   "file_extension": ".py",
   "mimetype": "text/x-python",
   "name": "python",
   "nbconvert_exporter": "python",
   "pygments_lexer": "ipython3",
   "version": "3.9.12"
  }
 },
 "nbformat": 4,
 "nbformat_minor": 5
}
